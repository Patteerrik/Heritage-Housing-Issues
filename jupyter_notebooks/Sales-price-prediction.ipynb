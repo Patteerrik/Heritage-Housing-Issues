{
 "cells": [
  {
   "cell_type": "markdown",
   "metadata": {},
   "source": [
    "# **Model Evaluation**"
   ]
  },
  {
   "cell_type": "markdown",
   "metadata": {},
   "source": [
    "## Objectives\n",
    "\n",
    "* Evaluate the performance of the optimized Gradient Boosting model.\n",
    "* Analyze feature importance to understand which variables have the most influence on house prices.\n",
    "* Ensure that the model meets the business requirement (R2 ≥ 0.75)\n",
    "\n",
    "## Inputs\n",
    "\n",
    "* The prepared dataset (`HousePricesFeatures.csv`)\n",
    "* Libraries for machine learning and data handling, including:\n",
    "  - **pandas** for data manipulation.\n",
    "  - **sklearn** for machine learning and model training.\n",
    "  - **matplotlib** and **seaborn** for visualizations.\n",
    "  - **joblib** for saving and loading models.\n",
    "\n",
    "\n",
    "## Outputs\n",
    "\n",
    "* The optimized Gradient Boosting model is saved as: outputs/best_model/best_gradient_boosting_model.pkl.\n",
    "* Visualization of feature importance.\n",
    "* Model evaluation metrics (MSE, R2).\n",
    "* Conclusions regarding the model's performance and usability.\n"
   ]
  },
  {
   "cell_type": "markdown",
   "metadata": {},
   "source": [
    "___"
   ]
  },
  {
   "cell_type": "markdown",
   "metadata": {},
   "source": [
    "# Change working directory"
   ]
  },
  {
   "cell_type": "markdown",
   "metadata": {},
   "source": [
    "We need to change the working directory from its current folder to its parent folder\n",
    "* We access the current directory with os.getcwd()"
   ]
  },
  {
   "cell_type": "code",
   "execution_count": 1,
   "metadata": {},
   "outputs": [
    {
     "data": {
      "text/plain": [
       "'/workspace/Heritage-Housing-Issues/jupyter_notebooks'"
      ]
     },
     "execution_count": 1,
     "metadata": {},
     "output_type": "execute_result"
    }
   ],
   "source": [
    "import os\n",
    "current_dir = os.getcwd()\n",
    "current_dir"
   ]
  },
  {
   "cell_type": "markdown",
   "metadata": {},
   "source": [
    "We want to make the parent of the current directory the new current directory\n",
    "* os.path.dirname() gets the parent directory\n",
    "* os.chir() defines the new current directory"
   ]
  },
  {
   "cell_type": "code",
   "execution_count": 2,
   "metadata": {},
   "outputs": [
    {
     "name": "stdout",
     "output_type": "stream",
     "text": [
      "You set a new current directory\n"
     ]
    }
   ],
   "source": [
    "os.chdir(os.path.dirname(current_dir))\n",
    "print(\"You set a new current directory\")"
   ]
  },
  {
   "cell_type": "markdown",
   "metadata": {},
   "source": [
    "Confirm the new current directory"
   ]
  },
  {
   "cell_type": "code",
   "execution_count": 3,
   "metadata": {},
   "outputs": [
    {
     "data": {
      "text/plain": [
       "'/workspace/Heritage-Housing-Issues'"
      ]
     },
     "execution_count": 3,
     "metadata": {},
     "output_type": "execute_result"
    }
   ],
   "source": [
    "current_dir = os.getcwd()\n",
    "current_dir"
   ]
  },
  {
   "cell_type": "markdown",
   "metadata": {},
   "source": [
    "___"
   ]
  },
  {
   "cell_type": "markdown",
   "metadata": {},
   "source": [
    "### Imports"
   ]
  },
  {
   "cell_type": "code",
   "execution_count": 10,
   "metadata": {},
   "outputs": [],
   "source": [
    "import pandas as pd\n",
    "import numpy as np\n",
    "from sklearn.model_selection import train_test_split, RandomizedSearchCV\n",
    "from sklearn.ensemble import GradientBoostingRegressor\n",
    "from sklearn.pipeline import Pipeline\n",
    "from sklearn.metrics import mean_squared_error, r2_score\n",
    "from sklearn.inspection import permutation_importance\n",
    "import matplotlib.pyplot as plt\n",
    "import seaborn as sns\n",
    "import joblib\n"
   ]
  },
  {
   "cell_type": "markdown",
   "metadata": {},
   "source": [
    "# Load data"
   ]
  },
  {
   "cell_type": "code",
   "execution_count": 3,
   "metadata": {},
   "outputs": [
    {
     "data": {
      "text/html": [
       "<div>\n",
       "<style scoped>\n",
       "    .dataframe tbody tr th:only-of-type {\n",
       "        vertical-align: middle;\n",
       "    }\n",
       "\n",
       "    .dataframe tbody tr th {\n",
       "        vertical-align: top;\n",
       "    }\n",
       "\n",
       "    .dataframe thead th {\n",
       "        text-align: right;\n",
       "    }\n",
       "</style>\n",
       "<table border=\"1\" class=\"dataframe\">\n",
       "  <thead>\n",
       "    <tr style=\"text-align: right;\">\n",
       "      <th></th>\n",
       "      <th>2ndFlrSF</th>\n",
       "      <th>BedroomAbvGr</th>\n",
       "      <th>BsmtFinSF1</th>\n",
       "      <th>GarageArea</th>\n",
       "      <th>GrLivArea</th>\n",
       "      <th>TotalSquareFootage</th>\n",
       "      <th>OverallQual</th>\n",
       "      <th>BsmtExposure_Av</th>\n",
       "      <th>BsmtExposure_Gd</th>\n",
       "      <th>BsmtExposure_Mn</th>\n",
       "      <th>...</th>\n",
       "      <th>BsmtFinType1_Rec</th>\n",
       "      <th>BsmtFinType1_Unf</th>\n",
       "      <th>GarageFinish_Fin</th>\n",
       "      <th>GarageFinish_RFn</th>\n",
       "      <th>GarageFinish_Unf</th>\n",
       "      <th>KitchenQual_Ex</th>\n",
       "      <th>KitchenQual_Fa</th>\n",
       "      <th>KitchenQual_Gd</th>\n",
       "      <th>KitchenQual_TA</th>\n",
       "      <th>SalePrice</th>\n",
       "    </tr>\n",
       "  </thead>\n",
       "  <tbody>\n",
       "    <tr>\n",
       "      <th>0</th>\n",
       "      <td>1.213595</td>\n",
       "      <td>0.153895</td>\n",
       "      <td>0.575425</td>\n",
       "      <td>0.351000</td>\n",
       "      <td>0.370333</td>\n",
       "      <td>0.021700</td>\n",
       "      <td>0.651479</td>\n",
       "      <td>0</td>\n",
       "      <td>0</td>\n",
       "      <td>0</td>\n",
       "      <td>...</td>\n",
       "      <td>0</td>\n",
       "      <td>0</td>\n",
       "      <td>0</td>\n",
       "      <td>1</td>\n",
       "      <td>0</td>\n",
       "      <td>0</td>\n",
       "      <td>0</td>\n",
       "      <td>1</td>\n",
       "      <td>0</td>\n",
       "      <td>208500.0</td>\n",
       "    </tr>\n",
       "    <tr>\n",
       "      <th>1</th>\n",
       "      <td>-0.756746</td>\n",
       "      <td>0.153895</td>\n",
       "      <td>1.171992</td>\n",
       "      <td>-0.060731</td>\n",
       "      <td>-0.482512</td>\n",
       "      <td>-0.029076</td>\n",
       "      <td>-0.071836</td>\n",
       "      <td>0</td>\n",
       "      <td>1</td>\n",
       "      <td>0</td>\n",
       "      <td>...</td>\n",
       "      <td>0</td>\n",
       "      <td>0</td>\n",
       "      <td>0</td>\n",
       "      <td>1</td>\n",
       "      <td>0</td>\n",
       "      <td>0</td>\n",
       "      <td>0</td>\n",
       "      <td>0</td>\n",
       "      <td>1</td>\n",
       "      <td>181500.0</td>\n",
       "    </tr>\n",
       "    <tr>\n",
       "      <th>2</th>\n",
       "      <td>1.241281</td>\n",
       "      <td>0.153895</td>\n",
       "      <td>0.092907</td>\n",
       "      <td>0.631726</td>\n",
       "      <td>0.515013</td>\n",
       "      <td>0.190955</td>\n",
       "      <td>0.651479</td>\n",
       "      <td>0</td>\n",
       "      <td>0</td>\n",
       "      <td>1</td>\n",
       "      <td>...</td>\n",
       "      <td>0</td>\n",
       "      <td>0</td>\n",
       "      <td>0</td>\n",
       "      <td>1</td>\n",
       "      <td>0</td>\n",
       "      <td>0</td>\n",
       "      <td>0</td>\n",
       "      <td>1</td>\n",
       "      <td>0</td>\n",
       "      <td>223500.0</td>\n",
       "    </tr>\n",
       "    <tr>\n",
       "      <th>3</th>\n",
       "      <td>-0.756746</td>\n",
       "      <td>0.153895</td>\n",
       "      <td>-0.499274</td>\n",
       "      <td>0.790804</td>\n",
       "      <td>0.383659</td>\n",
       "      <td>-1.004708</td>\n",
       "      <td>0.651479</td>\n",
       "      <td>0</td>\n",
       "      <td>0</td>\n",
       "      <td>0</td>\n",
       "      <td>...</td>\n",
       "      <td>0</td>\n",
       "      <td>0</td>\n",
       "      <td>0</td>\n",
       "      <td>0</td>\n",
       "      <td>1</td>\n",
       "      <td>0</td>\n",
       "      <td>0</td>\n",
       "      <td>1</td>\n",
       "      <td>0</td>\n",
       "      <td>140000.0</td>\n",
       "    </tr>\n",
       "    <tr>\n",
       "      <th>4</th>\n",
       "      <td>-0.756746</td>\n",
       "      <td>1.416182</td>\n",
       "      <td>0.463568</td>\n",
       "      <td>1.698485</td>\n",
       "      <td>1.299326</td>\n",
       "      <td>-0.311973</td>\n",
       "      <td>1.374795</td>\n",
       "      <td>1</td>\n",
       "      <td>0</td>\n",
       "      <td>0</td>\n",
       "      <td>...</td>\n",
       "      <td>0</td>\n",
       "      <td>0</td>\n",
       "      <td>0</td>\n",
       "      <td>1</td>\n",
       "      <td>0</td>\n",
       "      <td>0</td>\n",
       "      <td>0</td>\n",
       "      <td>1</td>\n",
       "      <td>0</td>\n",
       "      <td>250000.0</td>\n",
       "    </tr>\n",
       "  </tbody>\n",
       "</table>\n",
       "<p>5 rows × 25 columns</p>\n",
       "</div>"
      ],
      "text/plain": [
       "   2ndFlrSF  BedroomAbvGr  BsmtFinSF1  GarageArea  GrLivArea  \\\n",
       "0  1.213595      0.153895    0.575425    0.351000   0.370333   \n",
       "1 -0.756746      0.153895    1.171992   -0.060731  -0.482512   \n",
       "2  1.241281      0.153895    0.092907    0.631726   0.515013   \n",
       "3 -0.756746      0.153895   -0.499274    0.790804   0.383659   \n",
       "4 -0.756746      1.416182    0.463568    1.698485   1.299326   \n",
       "\n",
       "   TotalSquareFootage  OverallQual  BsmtExposure_Av  BsmtExposure_Gd  \\\n",
       "0            0.021700     0.651479                0                0   \n",
       "1           -0.029076    -0.071836                0                1   \n",
       "2            0.190955     0.651479                0                0   \n",
       "3           -1.004708     0.651479                0                0   \n",
       "4           -0.311973     1.374795                1                0   \n",
       "\n",
       "   BsmtExposure_Mn  ...  BsmtFinType1_Rec  BsmtFinType1_Unf  GarageFinish_Fin  \\\n",
       "0                0  ...                 0                 0                 0   \n",
       "1                0  ...                 0                 0                 0   \n",
       "2                1  ...                 0                 0                 0   \n",
       "3                0  ...                 0                 0                 0   \n",
       "4                0  ...                 0                 0                 0   \n",
       "\n",
       "   GarageFinish_RFn  GarageFinish_Unf  KitchenQual_Ex  KitchenQual_Fa  \\\n",
       "0                 1                 0               0               0   \n",
       "1                 1                 0               0               0   \n",
       "2                 1                 0               0               0   \n",
       "3                 0                 1               0               0   \n",
       "4                 1                 0               0               0   \n",
       "\n",
       "   KitchenQual_Gd  KitchenQual_TA  SalePrice  \n",
       "0               1               0   208500.0  \n",
       "1               0               1   181500.0  \n",
       "2               1               0   223500.0  \n",
       "3               1               0   140000.0  \n",
       "4               1               0   250000.0  \n",
       "\n",
       "[5 rows x 25 columns]"
      ]
     },
     "execution_count": 3,
     "metadata": {},
     "output_type": "execute_result"
    }
   ],
   "source": [
    "df = pd.read_csv(\"outputs/datasets/collection/HousePricesFeatures.csv\")\n",
    "df.head()"
   ]
  },
  {
   "cell_type": "code",
   "execution_count": 4,
   "metadata": {},
   "outputs": [],
   "source": [
    "# Define features and target variable\n",
    "X = df.drop('SalePrice', axis=1)\n",
    "y = np.log1p(df['SalePrice'])  # Log-transform the target variable"
   ]
  },
  {
   "cell_type": "code",
   "execution_count": 5,
   "metadata": {},
   "outputs": [],
   "source": [
    "# Split data into training and testing sets\n",
    "X_train, X_test, y_train, y_test = train_test_split(X, y, test_size=0.3, random_state=42)"
   ]
  },
  {
   "cell_type": "code",
   "execution_count": 6,
   "metadata": {},
   "outputs": [
    {
     "name": "stdout",
     "output_type": "stream",
     "text": [
      "Fitting 5 folds for each of 20 candidates, totalling 100 fits\n"
     ]
    },
    {
     "name": "stdout",
     "output_type": "stream",
     "text": [
      "[CV] END model__max_depth=None, model__min_samples_leaf=1, model__min_samples_split=5, model__n_estimators=200; total time=   6.5s\n",
      "[CV] END model__max_depth=None, model__min_samples_leaf=1, model__min_samples_split=5, model__n_estimators=200; total time=   7.1s\n",
      "[CV] END model__max_depth=None, model__min_samples_leaf=1, model__min_samples_split=5, model__n_estimators=200; total time=   6.9s\n",
      "[CV] END model__max_depth=None, model__min_samples_leaf=1, model__min_samples_split=5, model__n_estimators=200; total time=   7.5s\n",
      "[CV] END model__max_depth=None, model__min_samples_leaf=1, model__min_samples_split=5, model__n_estimators=200; total time=   8.3s\n",
      "[CV] END model__max_depth=None, model__min_samples_leaf=2, model__min_samples_split=2, model__n_estimators=200; total time=   8.8s\n",
      "[CV] END model__max_depth=None, model__min_samples_leaf=2, model__min_samples_split=2, model__n_estimators=200; total time=   9.1s\n",
      "[CV] END model__max_depth=None, model__min_samples_leaf=2, model__min_samples_split=2, model__n_estimators=200; total time=   9.4s\n",
      "[CV] END model__max_depth=None, model__min_samples_leaf=2, model__min_samples_split=2, model__n_estimators=200; total time=   9.4s\n",
      "[CV] END model__max_depth=20, model__min_samples_leaf=4, model__min_samples_split=5, model__n_estimators=300; total time=  10.4s\n",
      "[CV] END model__max_depth=20, model__min_samples_leaf=4, model__min_samples_split=5, model__n_estimators=300; total time=  10.7s\n",
      "[CV] END model__max_depth=20, model__min_samples_leaf=4, model__min_samples_split=5, model__n_estimators=300; total time=  11.0s\n",
      "[CV] END model__max_depth=None, model__min_samples_leaf=2, model__min_samples_split=2, model__n_estimators=200; total time=  10.0s\n",
      "[CV] END model__max_depth=30, model__min_samples_leaf=1, model__min_samples_split=2, model__n_estimators=300; total time=   8.6s\n",
      "[CV] END model__max_depth=20, model__min_samples_leaf=4, model__min_samples_split=5, model__n_estimators=300; total time=  11.5s\n",
      "[CV] END model__max_depth=20, model__min_samples_leaf=4, model__min_samples_split=5, model__n_estimators=300; total time=  11.5s\n",
      "[CV] END model__max_depth=10, model__min_samples_leaf=1, model__min_samples_split=5, model__n_estimators=100; total time=   2.4s\n",
      "[CV] END model__max_depth=10, model__min_samples_leaf=1, model__min_samples_split=5, model__n_estimators=100; total time=   2.6s\n",
      "[CV] END model__max_depth=30, model__min_samples_leaf=1, model__min_samples_split=2, model__n_estimators=300; total time=   7.1s\n",
      "[CV] END model__max_depth=30, model__min_samples_leaf=1, model__min_samples_split=2, model__n_estimators=300; total time=   8.6s\n",
      "[CV] END model__max_depth=30, model__min_samples_leaf=1, model__min_samples_split=2, model__n_estimators=300; total time=   8.2s\n",
      "[CV] END model__max_depth=30, model__min_samples_leaf=1, model__min_samples_split=2, model__n_estimators=300; total time=   8.0s\n",
      "[CV] END model__max_depth=10, model__min_samples_leaf=1, model__min_samples_split=5, model__n_estimators=100; total time=   2.3s\n",
      "[CV] END model__max_depth=10, model__min_samples_leaf=1, model__min_samples_split=5, model__n_estimators=100; total time=   2.1s\n",
      "[CV] END model__max_depth=10, model__min_samples_leaf=1, model__min_samples_split=5, model__n_estimators=100; total time=   2.2s\n",
      "[CV] END model__max_depth=20, model__min_samples_leaf=2, model__min_samples_split=5, model__n_estimators=200; total time=   7.2s\n",
      "[CV] END model__max_depth=20, model__min_samples_leaf=2, model__min_samples_split=5, model__n_estimators=200; total time=   7.1s\n",
      "[CV] END model__max_depth=20, model__min_samples_leaf=2, model__min_samples_split=5, model__n_estimators=200; total time=   7.4s\n",
      "[CV] END model__max_depth=20, model__min_samples_leaf=2, model__min_samples_split=5, model__n_estimators=200; total time=   7.4s\n",
      "[CV] END model__max_depth=10, model__min_samples_leaf=4, model__min_samples_split=2, model__n_estimators=100; total time=   2.4s\n",
      "[CV] END model__max_depth=10, model__min_samples_leaf=4, model__min_samples_split=2, model__n_estimators=100; total time=   2.2s\n",
      "[CV] END model__max_depth=20, model__min_samples_leaf=2, model__min_samples_split=5, model__n_estimators=200; total time=   7.3s\n",
      "[CV] END model__max_depth=10, model__min_samples_leaf=4, model__min_samples_split=2, model__n_estimators=100; total time=   2.0s\n",
      "[CV] END model__max_depth=10, model__min_samples_leaf=4, model__min_samples_split=2, model__n_estimators=100; total time=   2.0s\n",
      "[CV] END model__max_depth=10, model__min_samples_leaf=4, model__min_samples_split=2, model__n_estimators=100; total time=   2.1s\n",
      "[CV] END model__max_depth=20, model__min_samples_leaf=1, model__min_samples_split=10, model__n_estimators=300; total time=  10.0s\n",
      "[CV] END model__max_depth=20, model__min_samples_leaf=1, model__min_samples_split=10, model__n_estimators=300; total time=  10.2s\n",
      "[CV] END model__max_depth=20, model__min_samples_leaf=1, model__min_samples_split=10, model__n_estimators=300; total time=  10.4s\n",
      "[CV] END model__max_depth=20, model__min_samples_leaf=1, model__min_samples_split=10, model__n_estimators=300; total time=  10.9s\n",
      "[CV] END model__max_depth=20, model__min_samples_leaf=1, model__min_samples_split=10, model__n_estimators=300; total time=  10.1s\n",
      "[CV] END model__max_depth=30, model__min_samples_leaf=1, model__min_samples_split=2, model__n_estimators=100; total time=   3.2s\n",
      "[CV] END model__max_depth=30, model__min_samples_leaf=1, model__min_samples_split=2, model__n_estimators=100; total time=   3.1s\n",
      "[CV] END model__max_depth=30, model__min_samples_leaf=1, model__min_samples_split=2, model__n_estimators=100; total time=   2.9s\n",
      "[CV] END model__max_depth=30, model__min_samples_leaf=1, model__min_samples_split=2, model__n_estimators=100; total time=   3.1s\n",
      "[CV] END model__max_depth=30, model__min_samples_leaf=1, model__min_samples_split=2, model__n_estimators=100; total time=   3.1s\n",
      "[CV] END model__max_depth=None, model__min_samples_leaf=1, model__min_samples_split=2, model__n_estimators=100; total time=   3.5s\n",
      "[CV] END model__max_depth=20, model__min_samples_leaf=4, model__min_samples_split=10, model__n_estimators=200; total time=   7.1s\n",
      "[CV] END model__max_depth=20, model__min_samples_leaf=4, model__min_samples_split=10, model__n_estimators=200; total time=   6.9s\n",
      "[CV] END model__max_depth=None, model__min_samples_leaf=1, model__min_samples_split=2, model__n_estimators=100; total time=   2.9s\n",
      "[CV] END model__max_depth=20, model__min_samples_leaf=4, model__min_samples_split=10, model__n_estimators=200; total time=   7.1s\n",
      "[CV] END model__max_depth=20, model__min_samples_leaf=4, model__min_samples_split=10, model__n_estimators=200; total time=   7.3s\n",
      "[CV] END model__max_depth=20, model__min_samples_leaf=4, model__min_samples_split=10, model__n_estimators=200; total time=   7.3s\n",
      "[CV] END model__max_depth=None, model__min_samples_leaf=1, model__min_samples_split=2, model__n_estimators=100; total time=   3.5s\n",
      "[CV] END model__max_depth=30, model__min_samples_leaf=2, model__min_samples_split=5, model__n_estimators=300; total time=  13.6s\n",
      "[CV] END model__max_depth=30, model__min_samples_leaf=2, model__min_samples_split=5, model__n_estimators=300; total time=  14.5s\n",
      "[CV] END model__max_depth=30, model__min_samples_leaf=2, model__min_samples_split=5, model__n_estimators=300; total time=  14.6s\n",
      "[CV] END model__max_depth=30, model__min_samples_leaf=2, model__min_samples_split=5, model__n_estimators=300; total time=  14.6s\n",
      "[CV] END model__max_depth=None, model__min_samples_leaf=2, model__min_samples_split=2, model__n_estimators=300; total time=  14.2s\n",
      "[CV] END model__max_depth=None, model__min_samples_leaf=1, model__min_samples_split=2, model__n_estimators=100; total time=   3.1s\n",
      "[CV] END model__max_depth=None, model__min_samples_leaf=1, model__min_samples_split=2, model__n_estimators=100; total time=   3.7s\n",
      "[CV] END model__max_depth=None, model__min_samples_leaf=2, model__min_samples_split=2, model__n_estimators=300; total time=  15.0s\n",
      "[CV] END model__max_depth=None, model__min_samples_leaf=2, model__min_samples_split=2, model__n_estimators=300; total time=  15.6s\n",
      "[CV] END model__max_depth=30, model__min_samples_leaf=2, model__min_samples_split=5, model__n_estimators=300; total time=  16.3s\n",
      "[CV] END model__max_depth=None, model__min_samples_leaf=2, model__min_samples_split=2, model__n_estimators=300; total time=  16.7s\n",
      "[CV] END model__max_depth=None, model__min_samples_leaf=4, model__min_samples_split=2, model__n_estimators=100; total time=   3.6s\n",
      "[CV] END model__max_depth=None, model__min_samples_leaf=4, model__min_samples_split=2, model__n_estimators=100; total time=   3.3s\n",
      "[CV] END model__max_depth=None, model__min_samples_leaf=4, model__min_samples_split=2, model__n_estimators=100; total time=   3.3s\n",
      "[CV] END model__max_depth=None, model__min_samples_leaf=2, model__min_samples_split=2, model__n_estimators=300; total time=  17.0s\n",
      "[CV] END model__max_depth=20, model__min_samples_leaf=2, model__min_samples_split=10, model__n_estimators=100; total time=   3.1s\n",
      "[CV] END model__max_depth=20, model__min_samples_leaf=2, model__min_samples_split=10, model__n_estimators=100; total time=   3.0s\n",
      "[CV] END model__max_depth=None, model__min_samples_leaf=4, model__min_samples_split=2, model__n_estimators=100; total time=   3.9s\n",
      "[CV] END model__max_depth=None, model__min_samples_leaf=4, model__min_samples_split=2, model__n_estimators=100; total time=   3.8s\n",
      "[CV] END model__max_depth=20, model__min_samples_leaf=2, model__min_samples_split=10, model__n_estimators=100; total time=   3.2s\n",
      "[CV] END model__max_depth=20, model__min_samples_leaf=2, model__min_samples_split=10, model__n_estimators=100; total time=   3.3s\n",
      "[CV] END model__max_depth=20, model__min_samples_leaf=2, model__min_samples_split=10, model__n_estimators=100; total time=   3.2s\n",
      "[CV] END model__max_depth=20, model__min_samples_leaf=4, model__min_samples_split=10, model__n_estimators=300; total time=  10.6s\n",
      "[CV] END model__max_depth=20, model__min_samples_leaf=4, model__min_samples_split=10, model__n_estimators=300; total time=  10.8s\n",
      "[CV] END model__max_depth=20, model__min_samples_leaf=4, model__min_samples_split=10, model__n_estimators=300; total time=  11.2s\n",
      "[CV] END model__max_depth=20, model__min_samples_leaf=4, model__min_samples_split=10, model__n_estimators=300; total time=  11.2s\n",
      "[CV] END model__max_depth=20, model__min_samples_leaf=1, model__min_samples_split=2, model__n_estimators=300; total time=   6.8s\n",
      "[CV] END model__max_depth=20, model__min_samples_leaf=4, model__min_samples_split=10, model__n_estimators=300; total time=  11.4s\n",
      "[CV] END model__max_depth=20, model__min_samples_leaf=1, model__min_samples_split=2, model__n_estimators=300; total time=   7.6s\n",
      "[CV] END model__max_depth=20, model__min_samples_leaf=1, model__min_samples_split=2, model__n_estimators=300; total time=   8.2s\n",
      "[CV] END model__max_depth=20, model__min_samples_leaf=1, model__min_samples_split=2, model__n_estimators=300; total time=   7.4s\n",
      "[CV] END model__max_depth=20, model__min_samples_leaf=4, model__min_samples_split=5, model__n_estimators=200; total time=   7.2s\n",
      "[CV] END model__max_depth=20, model__min_samples_leaf=4, model__min_samples_split=5, model__n_estimators=200; total time=   7.1s\n",
      "[CV] END model__max_depth=20, model__min_samples_leaf=1, model__min_samples_split=2, model__n_estimators=300; total time=   7.8s\n",
      "[CV] END model__max_depth=20, model__min_samples_leaf=4, model__min_samples_split=5, model__n_estimators=200; total time=   7.4s\n",
      "[CV] END model__max_depth=20, model__min_samples_leaf=4, model__min_samples_split=5, model__n_estimators=200; total time=   7.2s\n",
      "[CV] END model__max_depth=20, model__min_samples_leaf=4, model__min_samples_split=5, model__n_estimators=200; total time=   6.7s\n",
      "[CV] END model__max_depth=10, model__min_samples_leaf=2, model__min_samples_split=10, model__n_estimators=100; total time=   1.9s\n",
      "[CV] END model__max_depth=10, model__min_samples_leaf=2, model__min_samples_split=10, model__n_estimators=100; total time=   1.9s\n",
      "[CV] END model__max_depth=10, model__min_samples_leaf=2, model__min_samples_split=10, model__n_estimators=100; total time=   1.5s\n",
      "[CV] END model__max_depth=10, model__min_samples_leaf=2, model__min_samples_split=10, model__n_estimators=100; total time=   1.3s\n",
      "[CV] END model__max_depth=10, model__min_samples_leaf=2, model__min_samples_split=10, model__n_estimators=100; total time=   1.4s\n",
      "[CV] END model__max_depth=30, model__min_samples_leaf=4, model__min_samples_split=10, model__n_estimators=200; total time=   7.0s\n",
      "[CV] END model__max_depth=30, model__min_samples_leaf=4, model__min_samples_split=10, model__n_estimators=200; total time=   4.7s\n",
      "[CV] END model__max_depth=30, model__min_samples_leaf=4, model__min_samples_split=10, model__n_estimators=200; total time=   4.8s\n",
      "[CV] END model__max_depth=30, model__min_samples_leaf=4, model__min_samples_split=10, model__n_estimators=200; total time=   4.6s\n",
      "[CV] END model__max_depth=30, model__min_samples_leaf=4, model__min_samples_split=10, model__n_estimators=200; total time=   4.2s\n",
      "Best hyperparameters from random search: {'model__n_estimators': 100, 'model__min_samples_split': 2, 'model__min_samples_leaf': 4, 'model__max_depth': 10}\n",
      "Optimized MSE: 803726160.6185234\n",
      "Optimized R2 Score: 0.8848215303271685\n"
     ]
    }
   ],
   "source": [
    "pipeline = Pipeline([\n",
    "    ('model', GradientBoostingRegressor(random_state=42))  # Model to train\n",
    "])\n",
    "\n",
    "# Define the parameters for randomized search\n",
    "param_grid = {\n",
    "    'model__n_estimators': [100, 200, 300],\n",
    "    'model__max_depth': [None, 10, 20, 30],\n",
    "    'model__min_samples_split': [2, 5, 10],\n",
    "    'model__min_samples_leaf': [1, 2, 4]\n",
    "}\n",
    "\n",
    "# Perform randomized search for hyperparameters\n",
    "random_search = RandomizedSearchCV(\n",
    "    pipeline, param_distributions=param_grid, n_iter=20, cv=5, n_jobs=-1, verbose=2, random_state=42\n",
    ")\n",
    "\n",
    "# Fit the randomized search to the training data\n",
    "random_search.fit(X_train, y_train)\n",
    "\n",
    "# Print the best hyperparameters found and evaluate the model\n",
    "print(f\"Best hyperparameters from random search: {random_search.best_params_}\")\n",
    "\n",
    "# Evaluate the optimized model\n",
    "optimized_model = random_search.best_estimator_\n",
    "y_pred_optimized = optimized_model.predict(X_test)\n",
    "\n",
    "# Inverse log-transform predictions and target\n",
    "y_test_original = np.expm1(y_test)\n",
    "y_pred_original = np.expm1(y_pred_optimized)\n",
    "\n",
    "# Calculate metrics\n",
    "mse_optimized = mean_squared_error(y_test_original, y_pred_original)\n",
    "r2_optimized = r2_score(y_test_original, y_pred_original)\n",
    "\n",
    "print(f\"Optimized MSE: {mse_optimized}\")\n",
    "print(f\"Optimized R2 Score: {r2_optimized}\")"
   ]
  },
  {
   "cell_type": "code",
   "execution_count": 8,
   "metadata": {},
   "outputs": [
    {
     "name": "stdout",
     "output_type": "stream",
     "text": [
      "              Feature  Importance\n",
      "6         OverallQual    0.328955\n",
      "5  TotalSquareFootage    0.174387\n",
      "4           GrLivArea    0.046690\n",
      "3          GarageArea    0.036322\n",
      "2          BsmtFinSF1    0.026287\n"
     ]
    }
   ],
   "source": [
    "# Beräkna permutation importance\n",
    "result = permutation_importance(optimized_model, X_test, y_test, n_repeats=10, random_state=42)\n",
    "\n",
    "# Skapa DataFrame för att lagra resultaten\n",
    "importance_df = pd.DataFrame({\n",
    "    'Feature': X.columns,\n",
    "    'Importance': result.importances_mean\n",
    "}).sort_values(by='Importance', ascending=False)\n",
    "\n",
    "# Kontrollera DataFrame\n",
    "print(importance_df.head())\n"
   ]
  },
  {
   "cell_type": "markdown",
   "metadata": {},
   "source": [
    "### Hyperparameter Tuning Results\n",
    "The model achieved an R2 score of **0.88**, which meets the business requirement of at least **0.75**. This indicates that the model can predict house prices reasonably well and is acceptable for the intended purpose."
   ]
  },
  {
   "cell_type": "code",
   "execution_count": null,
   "metadata": {},
   "outputs": [
    {
     "data": {
      "text/plain": [
       "['outputs/best_model/best_gradient_boosting_model.pkl']"
      ]
     },
     "execution_count": 7,
     "metadata": {},
     "output_type": "execute_result"
    }
   ],
   "source": [
    "# Save the best model for reuse\n",
    "joblib.dump(random_search.best_estimator_, 'outputs/best_model/best_gradient_boosting_model.pkl')"
   ]
  },
  {
   "cell_type": "code",
   "execution_count": 9,
   "metadata": {},
   "outputs": [
    {
     "name": "stderr",
     "output_type": "stream",
     "text": [
      "/tmp/ipykernel_1658/3693148284.py:6: FutureWarning: \n",
      "\n",
      "Passing `palette` without assigning `hue` is deprecated and will be removed in v0.14.0. Assign the `y` variable to `hue` and set `legend=False` for the same effect.\n",
      "\n",
      "  sns.barplot(x=\"Importance\", y=\"Feature\", data=importance_df, palette=\"viridis\", orient=\"h\")\n"
     ]
    },
    {
     "name": "stdout",
     "output_type": "stream",
     "text": [
      "               Feature  Importance\n",
      "6          OverallQual    0.328955\n",
      "5   TotalSquareFootage    0.174387\n",
      "4            GrLivArea    0.046690\n",
      "3           GarageArea    0.036322\n",
      "2           BsmtFinSF1    0.026287\n",
      "0             2ndFlrSF    0.013116\n",
      "1         BedroomAbvGr    0.003335\n",
      "22      KitchenQual_Gd    0.003297\n",
      "23      KitchenQual_TA    0.003242\n",
      "10     BsmtExposure_No    0.002011\n",
      "20      KitchenQual_Ex    0.001642\n",
      "11    BsmtFinType1_ALQ    0.001346\n",
      "19    GarageFinish_Unf    0.000999\n",
      "16    BsmtFinType1_Unf    0.000538\n",
      "21      KitchenQual_Fa    0.000532\n",
      "13    BsmtFinType1_GLQ    0.000523\n",
      "15    BsmtFinType1_Rec    0.000406\n",
      "17    GarageFinish_Fin    0.000253\n",
      "9      BsmtExposure_Mn    0.000245\n",
      "14    BsmtFinType1_LwQ    0.000239\n",
      "18    GarageFinish_RFn   -0.000046\n",
      "8      BsmtExposure_Gd   -0.000121\n",
      "12    BsmtFinType1_BLQ   -0.000154\n",
      "7      BsmtExposure_Av   -0.002712\n"
     ]
    },
    {
     "data": {
      "image/png": "[encoded data removed]",
      "text/plain": [
       "<Figure size 1000x800 with 1 Axes>"
      ]
     },
     "metadata": {},
     "output_type": "display_data"
    }
   ],
   "source": [
    "import matplotlib.pyplot as plt\n",
    "import seaborn as sns\n",
    "\n",
    "# Visualize permutation importance\n",
    "plt.figure(figsize=(10, 8))\n",
    "sns.barplot(x=\"Importance\", y=\"Feature\", data=importance_df, palette=\"viridis\", orient=\"h\")\n",
    "plt.title(\"Impact of Features on Model Performance\")\n",
    "plt.xlabel(\"Importance\")\n",
    "plt.ylabel(\"Feature\")\n",
    "\n",
    "# Set the x-axis to start at 0\n",
    "plt.xlim(left=0)\n",
    "\n",
    "print(importance_df)\n",
    "\n",
    "plt.show()\n",
    "\n"
   ]
  },
  {
   "cell_type": "markdown",
   "metadata": {},
   "source": [
    "### Feature Importance Analysis\n",
    "- The most important feature is **OverallQual**, which has the biggest impact on the model's performance.\n",
    "- Other important features include **TotalSquareFootage** and **GrLivArea**, which also play significant roles.\n",
    "- Features like **GarageArea** and **BsmtFinSF1** have smaller impacts but still contribute to the predictions.\n"
   ]
  }
 ],
 "metadata": {
  "kernelspec": {
   "display_name": "Python 3",
   "language": "python",
   "name": "python3"
  },
  "language_info": {
   "codemirror_mode": {
    "name": "ipython",
    "version": 3
   },
   "file_extension": ".py",
   "mimetype": "text/x-python",
   "name": "python",
   "nbconvert_exporter": "python",
   "pygments_lexer": "ipython3",
   "version": "3.8.18"
  }
 },
 "nbformat": 4,
 "nbformat_minor": 2
}
