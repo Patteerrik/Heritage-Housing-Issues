{
 "cells": [
  {
   "cell_type": "markdown",
   "metadata": {},
   "source": [
    "# **Model Evaluation**"
   ]
  },
  {
   "cell_type": "markdown",
   "metadata": {},
   "source": [
    "## Objectives\n",
    "\n",
    "* Evaluate the performance of the optimized Gradient Boosting model.\n",
    "* Analyze feature importance to understand which variables have the most influence on house prices.\n",
    "* Ensure that the model meets the business requirement (R2 ≥ 0.75)\n",
    "\n",
    "## Inputs\n",
    "\n",
    "* The prepared dataset (`HousePricesFeatures.csv`)\n",
    "* Libraries for machine learning and data handling, including:\n",
    "  - **pandas** for data manipulation.\n",
    "  - **sklearn** for machine learning and model training.\n",
    "  - **matplotlib** and **seaborn** for visualizations.\n",
    "  - **joblib** for saving and loading models.\n",
    "\n",
    "\n",
    "## Outputs\n",
    "\n",
    "* The optimized Gradient Boosting model is saved as: outputs/best_model/best_gradient_boosting_model.pkl.\n",
    "* Visualization of feature importance.\n",
    "* Model evaluation metrics (MSE, R2).\n",
    "* Conclusions regarding the model's performance and usability.\n"
   ]
  },
  {
   "cell_type": "markdown",
   "metadata": {},
   "source": [
    "___"
   ]
  },
  {
   "cell_type": "markdown",
   "metadata": {},
   "source": [
    "# Change working directory"
   ]
  },
  {
   "cell_type": "markdown",
   "metadata": {},
   "source": [
    "We need to change the working directory from its current folder to its parent folder\n",
    "* We access the current directory with os.getcwd()"
   ]
  },
  {
   "cell_type": "code",
   "execution_count": 1,
   "metadata": {},
   "outputs": [
    {
     "data": {
      "text/plain": [
       "'/workspace/Heritage-Housing-Issues/jupyter_notebooks'"
      ]
     },
     "execution_count": 1,
     "metadata": {},
     "output_type": "execute_result"
    }
   ],
   "source": [
    "import os\n",
    "current_dir = os.getcwd()\n",
    "current_dir"
   ]
  },
  {
   "cell_type": "markdown",
   "metadata": {},
   "source": [
    "We want to make the parent of the current directory the new current directory\n",
    "* os.path.dirname() gets the parent directory\n",
    "* os.chir() defines the new current directory"
   ]
  },
  {
   "cell_type": "code",
   "execution_count": 2,
   "metadata": {},
   "outputs": [
    {
     "name": "stdout",
     "output_type": "stream",
     "text": [
      "You set a new current directory\n"
     ]
    }
   ],
   "source": [
    "os.chdir(os.path.dirname(current_dir))\n",
    "print(\"You set a new current directory\")"
   ]
  },
  {
   "cell_type": "markdown",
   "metadata": {},
   "source": [
    "Confirm the new current directory"
   ]
  },
  {
   "cell_type": "code",
   "execution_count": 3,
   "metadata": {},
   "outputs": [
    {
     "data": {
      "text/plain": [
       "'/workspace/Heritage-Housing-Issues'"
      ]
     },
     "execution_count": 3,
     "metadata": {},
     "output_type": "execute_result"
    }
   ],
   "source": [
    "current_dir = os.getcwd()\n",
    "current_dir"
   ]
  },
  {
   "cell_type": "markdown",
   "metadata": {},
   "source": [
    "___"
   ]
  },
  {
   "cell_type": "code",
   "execution_count": null,
   "metadata": {},
   "outputs": [],
   "source": []
  },
  {
   "cell_type": "markdown",
   "metadata": {},
   "source": [
    "### Imports"
   ]
  },
  {
   "cell_type": "code",
   "execution_count": 12,
   "metadata": {},
   "outputs": [],
   "source": [
    "import pandas as pd\n",
    "import numpy as np\n",
    "from sklearn.model_selection import train_test_split, RandomizedSearchCV\n",
    "from sklearn.ensemble import GradientBoostingRegressor\n",
    "from sklearn.pipeline import Pipeline\n",
    "from sklearn.metrics import mean_squared_error, r2_score\n",
    "from sklearn.inspection import permutation_importance\n",
    "import matplotlib.pyplot as plt\n",
    "import seaborn as sns\n",
    "import joblib\n",
    "from xgboost import XGBRegressor"
   ]
  },
  {
   "cell_type": "markdown",
   "metadata": {},
   "source": [
    "# Load data"
   ]
  },
  {
   "cell_type": "code",
   "execution_count": 2,
   "metadata": {},
   "outputs": [
    {
     "data": {
      "text/html": [
       "<div>\n",
       "<style scoped>\n",
       "    .dataframe tbody tr th:only-of-type {\n",
       "        vertical-align: middle;\n",
       "    }\n",
       "\n",
       "    .dataframe tbody tr th {\n",
       "        vertical-align: top;\n",
       "    }\n",
       "\n",
       "    .dataframe thead th {\n",
       "        text-align: right;\n",
       "    }\n",
       "</style>\n",
       "<table border=\"1\" class=\"dataframe\">\n",
       "  <thead>\n",
       "    <tr style=\"text-align: right;\">\n",
       "      <th></th>\n",
       "      <th>2ndFlrSF</th>\n",
       "      <th>BedroomAbvGr</th>\n",
       "      <th>BsmtFinSF1</th>\n",
       "      <th>GarageArea</th>\n",
       "      <th>GrLivArea</th>\n",
       "      <th>OverallQual</th>\n",
       "      <th>BsmtExposure_Av</th>\n",
       "      <th>BsmtExposure_Gd</th>\n",
       "      <th>BsmtExposure_Mn</th>\n",
       "      <th>BsmtExposure_No</th>\n",
       "      <th>...</th>\n",
       "      <th>BsmtFinType1_Rec</th>\n",
       "      <th>BsmtFinType1_Unf</th>\n",
       "      <th>GarageFinish_Fin</th>\n",
       "      <th>GarageFinish_RFn</th>\n",
       "      <th>GarageFinish_Unf</th>\n",
       "      <th>KitchenQual_Ex</th>\n",
       "      <th>KitchenQual_Fa</th>\n",
       "      <th>KitchenQual_Gd</th>\n",
       "      <th>KitchenQual_TA</th>\n",
       "      <th>SalePrice</th>\n",
       "    </tr>\n",
       "  </thead>\n",
       "  <tbody>\n",
       "    <tr>\n",
       "      <th>0</th>\n",
       "      <td>1.213595</td>\n",
       "      <td>0.153895</td>\n",
       "      <td>0.575425</td>\n",
       "      <td>0.351000</td>\n",
       "      <td>0.370333</td>\n",
       "      <td>0.651479</td>\n",
       "      <td>0</td>\n",
       "      <td>0</td>\n",
       "      <td>0</td>\n",
       "      <td>1</td>\n",
       "      <td>...</td>\n",
       "      <td>0</td>\n",
       "      <td>0</td>\n",
       "      <td>0</td>\n",
       "      <td>1</td>\n",
       "      <td>0</td>\n",
       "      <td>0</td>\n",
       "      <td>0</td>\n",
       "      <td>1</td>\n",
       "      <td>0</td>\n",
       "      <td>208500.0</td>\n",
       "    </tr>\n",
       "    <tr>\n",
       "      <th>1</th>\n",
       "      <td>-0.756746</td>\n",
       "      <td>0.153895</td>\n",
       "      <td>1.171992</td>\n",
       "      <td>-0.060731</td>\n",
       "      <td>-0.482512</td>\n",
       "      <td>-0.071836</td>\n",
       "      <td>0</td>\n",
       "      <td>1</td>\n",
       "      <td>0</td>\n",
       "      <td>0</td>\n",
       "      <td>...</td>\n",
       "      <td>0</td>\n",
       "      <td>0</td>\n",
       "      <td>0</td>\n",
       "      <td>1</td>\n",
       "      <td>0</td>\n",
       "      <td>0</td>\n",
       "      <td>0</td>\n",
       "      <td>0</td>\n",
       "      <td>1</td>\n",
       "      <td>181500.0</td>\n",
       "    </tr>\n",
       "    <tr>\n",
       "      <th>2</th>\n",
       "      <td>1.241281</td>\n",
       "      <td>0.153895</td>\n",
       "      <td>0.092907</td>\n",
       "      <td>0.631726</td>\n",
       "      <td>0.515013</td>\n",
       "      <td>0.651479</td>\n",
       "      <td>0</td>\n",
       "      <td>0</td>\n",
       "      <td>1</td>\n",
       "      <td>0</td>\n",
       "      <td>...</td>\n",
       "      <td>0</td>\n",
       "      <td>0</td>\n",
       "      <td>0</td>\n",
       "      <td>1</td>\n",
       "      <td>0</td>\n",
       "      <td>0</td>\n",
       "      <td>0</td>\n",
       "      <td>1</td>\n",
       "      <td>0</td>\n",
       "      <td>223500.0</td>\n",
       "    </tr>\n",
       "    <tr>\n",
       "      <th>3</th>\n",
       "      <td>-0.756746</td>\n",
       "      <td>0.153895</td>\n",
       "      <td>-0.499274</td>\n",
       "      <td>0.790804</td>\n",
       "      <td>0.383659</td>\n",
       "      <td>0.651479</td>\n",
       "      <td>0</td>\n",
       "      <td>0</td>\n",
       "      <td>0</td>\n",
       "      <td>1</td>\n",
       "      <td>...</td>\n",
       "      <td>0</td>\n",
       "      <td>0</td>\n",
       "      <td>0</td>\n",
       "      <td>0</td>\n",
       "      <td>1</td>\n",
       "      <td>0</td>\n",
       "      <td>0</td>\n",
       "      <td>1</td>\n",
       "      <td>0</td>\n",
       "      <td>140000.0</td>\n",
       "    </tr>\n",
       "    <tr>\n",
       "      <th>4</th>\n",
       "      <td>-0.756746</td>\n",
       "      <td>1.416182</td>\n",
       "      <td>0.463568</td>\n",
       "      <td>1.698485</td>\n",
       "      <td>1.299326</td>\n",
       "      <td>1.374795</td>\n",
       "      <td>1</td>\n",
       "      <td>0</td>\n",
       "      <td>0</td>\n",
       "      <td>0</td>\n",
       "      <td>...</td>\n",
       "      <td>0</td>\n",
       "      <td>0</td>\n",
       "      <td>0</td>\n",
       "      <td>1</td>\n",
       "      <td>0</td>\n",
       "      <td>0</td>\n",
       "      <td>0</td>\n",
       "      <td>1</td>\n",
       "      <td>0</td>\n",
       "      <td>250000.0</td>\n",
       "    </tr>\n",
       "  </tbody>\n",
       "</table>\n",
       "<p>5 rows × 24 columns</p>\n",
       "</div>"
      ],
      "text/plain": [
       "   2ndFlrSF  BedroomAbvGr  BsmtFinSF1  GarageArea  GrLivArea  OverallQual  \\\n",
       "0  1.213595      0.153895    0.575425    0.351000   0.370333     0.651479   \n",
       "1 -0.756746      0.153895    1.171992   -0.060731  -0.482512    -0.071836   \n",
       "2  1.241281      0.153895    0.092907    0.631726   0.515013     0.651479   \n",
       "3 -0.756746      0.153895   -0.499274    0.790804   0.383659     0.651479   \n",
       "4 -0.756746      1.416182    0.463568    1.698485   1.299326     1.374795   \n",
       "\n",
       "   BsmtExposure_Av  BsmtExposure_Gd  BsmtExposure_Mn  BsmtExposure_No  ...  \\\n",
       "0                0                0                0                1  ...   \n",
       "1                0                1                0                0  ...   \n",
       "2                0                0                1                0  ...   \n",
       "3                0                0                0                1  ...   \n",
       "4                1                0                0                0  ...   \n",
       "\n",
       "   BsmtFinType1_Rec  BsmtFinType1_Unf  GarageFinish_Fin  GarageFinish_RFn  \\\n",
       "0                 0                 0                 0                 1   \n",
       "1                 0                 0                 0                 1   \n",
       "2                 0                 0                 0                 1   \n",
       "3                 0                 0                 0                 0   \n",
       "4                 0                 0                 0                 1   \n",
       "\n",
       "   GarageFinish_Unf  KitchenQual_Ex  KitchenQual_Fa  KitchenQual_Gd  \\\n",
       "0                 0               0               0               1   \n",
       "1                 0               0               0               0   \n",
       "2                 0               0               0               1   \n",
       "3                 1               0               0               1   \n",
       "4                 0               0               0               1   \n",
       "\n",
       "   KitchenQual_TA  SalePrice  \n",
       "0               0   208500.0  \n",
       "1               1   181500.0  \n",
       "2               0   223500.0  \n",
       "3               0   140000.0  \n",
       "4               0   250000.0  \n",
       "\n",
       "[5 rows x 24 columns]"
      ]
     },
     "execution_count": 2,
     "metadata": {},
     "output_type": "execute_result"
    }
   ],
   "source": [
    "df = pd.read_csv(\"outputs/datasets/collection/HousePricesFeatures.csv\")\n",
    "df.head()"
   ]
  },
  {
   "cell_type": "code",
   "execution_count": 3,
   "metadata": {},
   "outputs": [],
   "source": [
    "# Define features and target variable\n",
    "X = df.drop('SalePrice', axis=1)\n",
    "y = np.log1p(df['SalePrice'])  # Log-transform the target variable"
   ]
  },
  {
   "cell_type": "code",
   "execution_count": 4,
   "metadata": {},
   "outputs": [],
   "source": [
    "# Split data into training and testing sets\n",
    "X_train, X_test, y_train, y_test = train_test_split(X, y, test_size=0.3, random_state=42)"
   ]
  },
  {
   "cell_type": "markdown",
   "metadata": {},
   "source": [
    "##### **Gradient Boosting Regressor optimization**"
   ]
  },
  {
   "cell_type": "code",
   "execution_count": 14,
   "metadata": {},
   "outputs": [
    {
     "name": "stdout",
     "output_type": "stream",
     "text": [
      "Fitting 5 folds for each of 20 candidates, totalling 100 fits\n",
      "[CV] END model__max_depth=None, model__min_samples_leaf=1, model__min_samples_split=5, model__n_estimators=200; total time=   7.8s\n",
      "[CV] END model__max_depth=None, model__min_samples_leaf=1, model__min_samples_split=5, model__n_estimators=200; total time=   6.6s\n",
      "[CV] END model__max_depth=None, model__min_samples_leaf=1, model__min_samples_split=5, model__n_estimators=200; total time=   7.5s\n",
      "[CV] END model__max_depth=None, model__min_samples_leaf=1, model__min_samples_split=5, model__n_estimators=200; total time=   7.6s\n",
      "[CV] END model__max_depth=None, model__min_samples_leaf=2, model__min_samples_split=2, model__n_estimators=200; total time=   9.6s\n",
      "[CV] END model__max_depth=None, model__min_samples_leaf=2, model__min_samples_split=2, model__n_estimators=200; total time=  10.8s\n",
      "[CV] END model__max_depth=None, model__min_samples_leaf=2, model__min_samples_split=2, model__n_estimators=200; total time=  10.1s\n",
      "[CV] END model__max_depth=None, model__min_samples_leaf=1, model__min_samples_split=5, model__n_estimators=200; total time=   7.9s\n",
      "[CV] END model__max_depth=None, model__min_samples_leaf=2, model__min_samples_split=2, model__n_estimators=200; total time=  10.3s\n",
      "[CV] END model__max_depth=30, model__min_samples_leaf=1, model__min_samples_split=2, model__n_estimators=300; total time=   8.5s\n",
      "[CV] END model__max_depth=20, model__min_samples_leaf=4, model__min_samples_split=5, model__n_estimators=300; total time=  12.2s\n",
      "[CV] END model__max_depth=20, model__min_samples_leaf=4, model__min_samples_split=5, model__n_estimators=300; total time=  12.1s\n",
      "[CV] END model__max_depth=None, model__min_samples_leaf=2, model__min_samples_split=2, model__n_estimators=200; total time=  10.8s\n",
      "[CV] END model__max_depth=20, model__min_samples_leaf=4, model__min_samples_split=5, model__n_estimators=300; total time=  11.9s\n",
      "[CV] END model__max_depth=20, model__min_samples_leaf=4, model__min_samples_split=5, model__n_estimators=300; total time=  12.3s\n",
      "[CV] END model__max_depth=20, model__min_samples_leaf=4, model__min_samples_split=5, model__n_estimators=300; total time=  12.1s\n",
      "[CV] END model__max_depth=10, model__min_samples_leaf=1, model__min_samples_split=5, model__n_estimators=100; total time=   2.1s\n",
      "[CV] END model__max_depth=10, model__min_samples_leaf=1, model__min_samples_split=5, model__n_estimators=100; total time=   2.1s\n",
      "[CV] END model__max_depth=30, model__min_samples_leaf=1, model__min_samples_split=2, model__n_estimators=300; total time=   7.2s\n",
      "[CV] END model__max_depth=30, model__min_samples_leaf=1, model__min_samples_split=2, model__n_estimators=300; total time=   7.6s\n",
      "[CV] END model__max_depth=10, model__min_samples_leaf=1, model__min_samples_split=5, model__n_estimators=100; total time=   2.2s\n",
      "[CV] END model__max_depth=10, model__min_samples_leaf=1, model__min_samples_split=5, model__n_estimators=100; total time=   2.2s\n",
      "[CV] END model__max_depth=20, model__min_samples_leaf=2, model__min_samples_split=5, model__n_estimators=200; total time=   6.7s\n",
      "[CV] END model__max_depth=30, model__min_samples_leaf=1, model__min_samples_split=2, model__n_estimators=300; total time=   8.3s\n",
      "[CV] END model__max_depth=20, model__min_samples_leaf=2, model__min_samples_split=5, model__n_estimators=200; total time=   6.5s\n",
      "[CV] END model__max_depth=20, model__min_samples_leaf=2, model__min_samples_split=5, model__n_estimators=200; total time=   6.8s\n",
      "[CV] END model__max_depth=10, model__min_samples_leaf=1, model__min_samples_split=5, model__n_estimators=100; total time=   2.1s\n",
      "[CV] END model__max_depth=10, model__min_samples_leaf=4, model__min_samples_split=2, model__n_estimators=100; total time=   2.0s\n",
      "[CV] END model__max_depth=30, model__min_samples_leaf=1, model__min_samples_split=2, model__n_estimators=300; total time=   9.3s\n",
      "[CV] END model__max_depth=10, model__min_samples_leaf=4, model__min_samples_split=2, model__n_estimators=100; total time=   2.0s\n",
      "[CV] END model__max_depth=20, model__min_samples_leaf=2, model__min_samples_split=5, model__n_estimators=200; total time=   6.8s\n",
      "[CV] END model__max_depth=20, model__min_samples_leaf=2, model__min_samples_split=5, model__n_estimators=200; total time=   7.3s\n",
      "[CV] END model__max_depth=10, model__min_samples_leaf=4, model__min_samples_split=2, model__n_estimators=100; total time=   2.0s\n",
      "[CV] END model__max_depth=10, model__min_samples_leaf=4, model__min_samples_split=2, model__n_estimators=100; total time=   2.0s\n",
      "[CV] END model__max_depth=20, model__min_samples_leaf=1, model__min_samples_split=10, model__n_estimators=300; total time=   9.6s\n",
      "[CV] END model__max_depth=20, model__min_samples_leaf=1, model__min_samples_split=10, model__n_estimators=300; total time=   9.6s\n",
      "[CV] END model__max_depth=10, model__min_samples_leaf=4, model__min_samples_split=2, model__n_estimators=100; total time=   2.0s\n",
      "[CV] END model__max_depth=20, model__min_samples_leaf=1, model__min_samples_split=10, model__n_estimators=300; total time=   9.3s\n",
      "[CV] END model__max_depth=20, model__min_samples_leaf=1, model__min_samples_split=10, model__n_estimators=300; total time=  10.0s\n",
      "[CV] END model__max_depth=20, model__min_samples_leaf=1, model__min_samples_split=10, model__n_estimators=300; total time=  10.1s\n",
      "[CV] END model__max_depth=30, model__min_samples_leaf=1, model__min_samples_split=2, model__n_estimators=100; total time=   2.9s\n",
      "[CV] END model__max_depth=30, model__min_samples_leaf=1, model__min_samples_split=2, model__n_estimators=100; total time=   2.7s\n",
      "[CV] END model__max_depth=30, model__min_samples_leaf=1, model__min_samples_split=2, model__n_estimators=100; total time=   3.0s\n",
      "[CV] END model__max_depth=30, model__min_samples_leaf=1, model__min_samples_split=2, model__n_estimators=100; total time=   2.9s\n",
      "[CV] END model__max_depth=30, model__min_samples_leaf=1, model__min_samples_split=2, model__n_estimators=100; total time=   2.9s\n",
      "[CV] END model__max_depth=None, model__min_samples_leaf=1, model__min_samples_split=2, model__n_estimators=100; total time=   2.9s\n",
      "[CV] END model__max_depth=20, model__min_samples_leaf=4, model__min_samples_split=10, model__n_estimators=200; total time=   6.5s\n",
      "[CV] END model__max_depth=20, model__min_samples_leaf=4, model__min_samples_split=10, model__n_estimators=200; total time=   6.4s\n",
      "[CV] END model__max_depth=20, model__min_samples_leaf=4, model__min_samples_split=10, model__n_estimators=200; total time=   6.4s\n",
      "[CV] END model__max_depth=None, model__min_samples_leaf=1, model__min_samples_split=2, model__n_estimators=100; total time=   3.1s\n",
      "[CV] END model__max_depth=20, model__min_samples_leaf=4, model__min_samples_split=10, model__n_estimators=200; total time=   6.7s\n",
      "[CV] END model__max_depth=20, model__min_samples_leaf=4, model__min_samples_split=10, model__n_estimators=200; total time=   6.4s\n",
      "[CV] END model__max_depth=None, model__min_samples_leaf=1, model__min_samples_split=2, model__n_estimators=100; total time=   3.0s\n",
      "[CV] END model__max_depth=None, model__min_samples_leaf=2, model__min_samples_split=2, model__n_estimators=300; total time=  12.4s\n",
      "[CV] END model__max_depth=30, model__min_samples_leaf=2, model__min_samples_split=5, model__n_estimators=300; total time=  13.4s\n",
      "[CV] END model__max_depth=30, model__min_samples_leaf=2, model__min_samples_split=5, model__n_estimators=300; total time=  13.5s\n",
      "[CV] END model__max_depth=30, model__min_samples_leaf=2, model__min_samples_split=5, model__n_estimators=300; total time=  13.4s\n",
      "[CV] END model__max_depth=30, model__min_samples_leaf=2, model__min_samples_split=5, model__n_estimators=300; total time=  13.3s\n",
      "[CV] END model__max_depth=None, model__min_samples_leaf=1, model__min_samples_split=2, model__n_estimators=100; total time=   3.1s\n",
      "[CV] END model__max_depth=None, model__min_samples_leaf=1, model__min_samples_split=2, model__n_estimators=100; total time=   3.1s\n",
      "[CV] END model__max_depth=30, model__min_samples_leaf=2, model__min_samples_split=5, model__n_estimators=300; total time=  13.7s\n",
      "[CV] END model__max_depth=None, model__min_samples_leaf=2, model__min_samples_split=2, model__n_estimators=300; total time=  13.4s\n",
      "[CV] END model__max_depth=None, model__min_samples_leaf=2, model__min_samples_split=2, model__n_estimators=300; total time=  14.7s\n",
      "[CV] END model__max_depth=None, model__min_samples_leaf=2, model__min_samples_split=2, model__n_estimators=300; total time=  14.7s\n",
      "[CV] END model__max_depth=None, model__min_samples_leaf=2, model__min_samples_split=2, model__n_estimators=300; total time=  14.5s\n",
      "[CV] END model__max_depth=None, model__min_samples_leaf=4, model__min_samples_split=2, model__n_estimators=100; total time=   3.0s\n",
      "[CV] END model__max_depth=None, model__min_samples_leaf=4, model__min_samples_split=2, model__n_estimators=100; total time=   3.3s\n",
      "[CV] END model__max_depth=20, model__min_samples_leaf=2, model__min_samples_split=10, model__n_estimators=100; total time=   2.8s\n",
      "[CV] END model__max_depth=20, model__min_samples_leaf=2, model__min_samples_split=10, model__n_estimators=100; total time=   2.9s\n",
      "[CV] END model__max_depth=None, model__min_samples_leaf=4, model__min_samples_split=2, model__n_estimators=100; total time=   3.3s\n",
      "[CV] END model__max_depth=20, model__min_samples_leaf=2, model__min_samples_split=10, model__n_estimators=100; total time=   2.9s\n",
      "[CV] END model__max_depth=None, model__min_samples_leaf=4, model__min_samples_split=2, model__n_estimators=100; total time=   3.5s\n",
      "[CV] END model__max_depth=None, model__min_samples_leaf=4, model__min_samples_split=2, model__n_estimators=100; total time=   3.6s\n",
      "[CV] END model__max_depth=20, model__min_samples_leaf=2, model__min_samples_split=10, model__n_estimators=100; total time=   2.8s\n",
      "[CV] END model__max_depth=20, model__min_samples_leaf=2, model__min_samples_split=10, model__n_estimators=100; total time=   3.0s\n",
      "[CV] END model__max_depth=20, model__min_samples_leaf=4, model__min_samples_split=10, model__n_estimators=300; total time=   9.6s\n",
      "[CV] END model__max_depth=20, model__min_samples_leaf=4, model__min_samples_split=10, model__n_estimators=300; total time=   9.8s\n",
      "[CV] END model__max_depth=20, model__min_samples_leaf=4, model__min_samples_split=10, model__n_estimators=300; total time=  10.1s\n",
      "[CV] END model__max_depth=20, model__min_samples_leaf=4, model__min_samples_split=10, model__n_estimators=300; total time=  11.0s\n",
      "[CV] END model__max_depth=20, model__min_samples_leaf=1, model__min_samples_split=2, model__n_estimators=300; total time=   6.7s\n",
      "[CV] END model__max_depth=20, model__min_samples_leaf=4, model__min_samples_split=5, model__n_estimators=200; total time=   6.2s\n",
      "[CV] END model__max_depth=20, model__min_samples_leaf=1, model__min_samples_split=2, model__n_estimators=300; total time=   7.1s\n",
      "[CV] END model__max_depth=20, model__min_samples_leaf=4, model__min_samples_split=5, model__n_estimators=200; total time=   6.5s\n",
      "[CV] END model__max_depth=20, model__min_samples_leaf=4, model__min_samples_split=10, model__n_estimators=300; total time=  10.6s\n",
      "[CV] END model__max_depth=20, model__min_samples_leaf=1, model__min_samples_split=2, model__n_estimators=300; total time=   8.1s\n",
      "[CV] END model__max_depth=20, model__min_samples_leaf=4, model__min_samples_split=5, model__n_estimators=200; total time=   6.7s\n",
      "[CV] END model__max_depth=20, model__min_samples_leaf=1, model__min_samples_split=2, model__n_estimators=300; total time=   7.6s\n",
      "[CV] END model__max_depth=20, model__min_samples_leaf=1, model__min_samples_split=2, model__n_estimators=300; total time=   7.6s\n",
      "[CV] END model__max_depth=20, model__min_samples_leaf=4, model__min_samples_split=5, model__n_estimators=200; total time=   7.1s\n",
      "[CV] END model__max_depth=20, model__min_samples_leaf=4, model__min_samples_split=5, model__n_estimators=200; total time=   6.2s\n",
      "[CV] END model__max_depth=10, model__min_samples_leaf=2, model__min_samples_split=10, model__n_estimators=100; total time=   1.7s\n",
      "[CV] END model__max_depth=10, model__min_samples_leaf=2, model__min_samples_split=10, model__n_estimators=100; total time=   1.7s\n",
      "[CV] END model__max_depth=10, model__min_samples_leaf=2, model__min_samples_split=10, model__n_estimators=100; total time=   1.7s\n",
      "[CV] END model__max_depth=10, model__min_samples_leaf=2, model__min_samples_split=10, model__n_estimators=100; total time=   1.6s\n",
      "[CV] END model__max_depth=10, model__min_samples_leaf=2, model__min_samples_split=10, model__n_estimators=100; total time=   1.4s\n",
      "[CV] END model__max_depth=30, model__min_samples_leaf=4, model__min_samples_split=10, model__n_estimators=200; total time=   6.7s\n",
      "[CV] END model__max_depth=30, model__min_samples_leaf=4, model__min_samples_split=10, model__n_estimators=200; total time=   4.7s\n",
      "[CV] END model__max_depth=30, model__min_samples_leaf=4, model__min_samples_split=10, model__n_estimators=200; total time=   4.6s\n",
      "[CV] END model__max_depth=30, model__min_samples_leaf=4, model__min_samples_split=10, model__n_estimators=200; total time=   4.2s\n",
      "[CV] END model__max_depth=30, model__min_samples_leaf=4, model__min_samples_split=10, model__n_estimators=200; total time=   4.1s\n",
      "Best hyperparameters from random search: {'model__n_estimators': 100, 'model__min_samples_split': 2, 'model__min_samples_leaf': 4, 'model__max_depth': 10}\n",
      "Optimized MSE: 850153221.2181647\n",
      "Optimized R2 Score: 0.8781682719746479\n"
     ]
    }
   ],
   "source": [
    "pipeline = Pipeline([\n",
    "    ('model', GradientBoostingRegressor(random_state=42))  # Model to train\n",
    "])\n",
    "\n",
    "# Define the parameters for randomized search\n",
    "param_grid = {\n",
    "    'model__n_estimators': [100, 200, 300],\n",
    "    'model__max_depth': [None, 10, 20, 30],\n",
    "    'model__min_samples_split': [2, 5, 10],\n",
    "    'model__min_samples_leaf': [1, 2, 4]\n",
    "}\n",
    "\n",
    "# Perform randomized search for hyperparameters\n",
    "random_search = RandomizedSearchCV(\n",
    "    pipeline, param_distributions=param_grid, n_iter=20, cv=5, n_jobs=-1, verbose=2, random_state=42\n",
    ")\n",
    "\n",
    "# Fit the randomized search to the training data\n",
    "random_search.fit(X_train, y_train)\n",
    "\n",
    "# Print the best hyperparameters found and evaluate the model\n",
    "print(f\"Best hyperparameters from random search: {random_search.best_params_}\")\n",
    "\n",
    "# Evaluate the optimized model\n",
    "optimized_model = random_search.best_estimator_\n",
    "y_pred_optimized = optimized_model.predict(X_test)\n",
    "\n",
    "# Inverse log-transform predictions and target\n",
    "y_test_original = np.expm1(y_test)\n",
    "y_pred_original = np.expm1(y_pred_optimized)\n",
    "\n",
    "# Calculate metrics\n",
    "mse_optimized = mean_squared_error(y_test_original, y_pred_original)\n",
    "r2_optimized = r2_score(y_test_original, y_pred_original)\n",
    "\n",
    "print(f\"Optimized MSE: {mse_optimized}\")\n",
    "print(f\"Optimized R2 Score: {r2_optimized}\")"
   ]
  },
  {
   "cell_type": "markdown",
   "metadata": {},
   "source": [
    "##### **XGBRegressor optimization**"
   ]
  },
  {
   "cell_type": "code",
   "execution_count": 13,
   "metadata": {},
   "outputs": [
    {
     "name": "stdout",
     "output_type": "stream",
     "text": [
      "Fitting 5 folds for each of 20 candidates, totalling 100 fits\n",
      "[CV] END model__colsample_bytree=1.0, model__learning_rate=0.05, model__max_depth=None, model__n_estimators=100, model__subsample=1.0; total time=   1.8s\n",
      "[CV] END model__colsample_bytree=1.0, model__learning_rate=0.05, model__max_depth=None, model__n_estimators=100, model__subsample=1.0; total time=   1.1s\n",
      "[CV] END model__colsample_bytree=0.8, model__learning_rate=0.01, model__max_depth=30, model__n_estimators=100, model__subsample=1.0; total time=   3.7s\n",
      "[CV] END model__colsample_bytree=0.8, model__learning_rate=0.01, model__max_depth=30, model__n_estimators=100, model__subsample=1.0; total time=   3.8s\n",
      "[CV] END model__colsample_bytree=0.8, model__learning_rate=0.01, model__max_depth=30, model__n_estimators=100, model__subsample=1.0; total time=   3.8s\n",
      "[CV] END model__colsample_bytree=0.8, model__learning_rate=0.01, model__max_depth=30, model__n_estimators=100, model__subsample=1.0; total time=   4.0s\n",
      "[CV] END model__colsample_bytree=0.8, model__learning_rate=0.01, model__max_depth=30, model__n_estimators=100, model__subsample=1.0; total time=   4.2s\n",
      "[CV] END model__colsample_bytree=1.0, model__learning_rate=0.05, model__max_depth=None, model__n_estimators=100, model__subsample=1.0; total time=   1.0s\n",
      "[CV] END model__colsample_bytree=1.0, model__learning_rate=0.05, model__max_depth=None, model__n_estimators=100, model__subsample=1.0; total time=   0.8s\n",
      "[CV] END model__colsample_bytree=1.0, model__learning_rate=0.05, model__max_depth=None, model__n_estimators=100, model__subsample=1.0; total time=   1.2s\n",
      "[CV] END model__colsample_bytree=0.8, model__learning_rate=0.1, model__max_depth=10, model__n_estimators=200, model__subsample=0.8; total time=   2.3s\n",
      "[CV] END model__colsample_bytree=0.8, model__learning_rate=0.1, model__max_depth=10, model__n_estimators=200, model__subsample=0.8; total time=   2.8s\n",
      "[CV] END model__colsample_bytree=1.0, model__learning_rate=0.01, model__max_depth=10, model__n_estimators=300, model__subsample=0.8; total time=   6.8s\n",
      "[CV] END model__colsample_bytree=0.8, model__learning_rate=0.1, model__max_depth=10, model__n_estimators=200, model__subsample=0.8; total time=   3.2s\n",
      "[CV] END model__colsample_bytree=0.8, model__learning_rate=0.1, model__max_depth=10, model__n_estimators=200, model__subsample=0.8; total time=   2.9s\n",
      "[CV] END model__colsample_bytree=1.0, model__learning_rate=0.01, model__max_depth=10, model__n_estimators=300, model__subsample=0.8; total time=   7.1s\n",
      "[CV] END model__colsample_bytree=1.0, model__learning_rate=0.01, model__max_depth=10, model__n_estimators=300, model__subsample=0.8; total time=   6.9s\n",
      "[CV] END model__colsample_bytree=1.0, model__learning_rate=0.01, model__max_depth=10, model__n_estimators=300, model__subsample=0.8; total time=   7.1s\n",
      "[CV] END model__colsample_bytree=0.8, model__learning_rate=0.1, model__max_depth=10, model__n_estimators=200, model__subsample=0.8; total time=   3.3s\n",
      "[CV] END model__colsample_bytree=1.0, model__learning_rate=0.01, model__max_depth=10, model__n_estimators=300, model__subsample=0.8; total time=   7.1s\n",
      "[CV] END model__colsample_bytree=0.8, model__learning_rate=0.01, model__max_depth=20, model__n_estimators=100, model__subsample=0.8; total time=   2.3s\n",
      "[CV] END model__colsample_bytree=1.0, model__learning_rate=0.05, model__max_depth=30, model__n_estimators=200, model__subsample=1.0; total time=   8.3s[CV] END model__colsample_bytree=1.0, model__learning_rate=0.05, model__max_depth=30, model__n_estimators=200, model__subsample=1.0; total time=   8.3s\n",
      "\n",
      "[CV] END model__colsample_bytree=1.0, model__learning_rate=0.05, model__max_depth=30, model__n_estimators=200, model__subsample=1.0; total time=   8.4s\n",
      "[CV] END model__colsample_bytree=1.0, model__learning_rate=0.05, model__max_depth=30, model__n_estimators=200, model__subsample=1.0; total time=   8.9s\n",
      "[CV] END model__colsample_bytree=0.8, model__learning_rate=0.01, model__max_depth=20, model__n_estimators=100, model__subsample=0.8; total time=   2.1s\n",
      "[CV] END model__colsample_bytree=0.8, model__learning_rate=0.01, model__max_depth=20, model__n_estimators=100, model__subsample=0.8; total time=   2.2s\n",
      "[CV] END model__colsample_bytree=1.0, model__learning_rate=0.05, model__max_depth=30, model__n_estimators=200, model__subsample=1.0; total time=   9.3s\n",
      "[CV] END model__colsample_bytree=0.8, model__learning_rate=0.01, model__max_depth=20, model__n_estimators=100, model__subsample=0.8; total time=   2.4s\n",
      "[CV] END model__colsample_bytree=0.8, model__learning_rate=0.01, model__max_depth=20, model__n_estimators=100, model__subsample=0.8; total time=   2.2s\n",
      "[CV] END model__colsample_bytree=1.0, model__learning_rate=0.1, model__max_depth=20, model__n_estimators=100, model__subsample=0.8; total time=   3.6s\n",
      "[CV] END model__colsample_bytree=1.0, model__learning_rate=0.1, model__max_depth=20, model__n_estimators=100, model__subsample=0.8; total time=   3.6s\n",
      "[CV] END model__colsample_bytree=1.0, model__learning_rate=0.1, model__max_depth=20, model__n_estimators=100, model__subsample=0.8; total time=   3.8s\n",
      "[CV] END model__colsample_bytree=1.0, model__learning_rate=0.1, model__max_depth=20, model__n_estimators=100, model__subsample=0.8; total time=   3.7s\n",
      "[CV] END model__colsample_bytree=1.0, model__learning_rate=0.1, model__max_depth=20, model__n_estimators=100, model__subsample=0.8; total time=   3.8s\n",
      "[CV] END model__colsample_bytree=0.8, model__learning_rate=0.1, model__max_depth=20, model__n_estimators=300, model__subsample=1.0; total time=   3.8s\n",
      "[CV] END model__colsample_bytree=0.8, model__learning_rate=0.1, model__max_depth=20, model__n_estimators=300, model__subsample=1.0; total time=   3.9s\n",
      "[CV] END model__colsample_bytree=0.8, model__learning_rate=0.1, model__max_depth=20, model__n_estimators=300, model__subsample=1.0; total time=   3.3s\n",
      "[CV] END model__colsample_bytree=0.8, model__learning_rate=0.1, model__max_depth=20, model__n_estimators=300, model__subsample=1.0; total time=   3.4s\n",
      "[CV] END model__colsample_bytree=0.8, model__learning_rate=0.01, model__max_depth=30, model__n_estimators=100, model__subsample=0.8; total time=   2.4s\n",
      "[CV] END model__colsample_bytree=0.8, model__learning_rate=0.1, model__max_depth=20, model__n_estimators=300, model__subsample=1.0; total time=   3.5s\n",
      "[CV] END model__colsample_bytree=0.8, model__learning_rate=0.1, model__max_depth=30, model__n_estimators=100, model__subsample=0.8; total time=   3.2s\n",
      "[CV] END model__colsample_bytree=0.8, model__learning_rate=0.1, model__max_depth=None, model__n_estimators=200, model__subsample=1.0; total time=   1.2s\n",
      "[CV] END model__colsample_bytree=0.8, model__learning_rate=0.1, model__max_depth=30, model__n_estimators=100, model__subsample=0.8; total time=   3.2s\n",
      "[CV] END model__colsample_bytree=0.8, model__learning_rate=0.1, model__max_depth=None, model__n_estimators=200, model__subsample=1.0; total time=   1.1s\n",
      "[CV] END model__colsample_bytree=0.8, model__learning_rate=0.1, model__max_depth=None, model__n_estimators=200, model__subsample=1.0; total time=   1.1s\n",
      "[CV] END model__colsample_bytree=0.8, model__learning_rate=0.1, model__max_depth=30, model__n_estimators=100, model__subsample=0.8; total time=   3.1s\n",
      "[CV] END model__colsample_bytree=0.8, model__learning_rate=0.1, model__max_depth=30, model__n_estimators=100, model__subsample=0.8; total time=   3.3s\n",
      "[CV] END model__colsample_bytree=0.8, model__learning_rate=0.1, model__max_depth=None, model__n_estimators=200, model__subsample=1.0; total time=   1.0s\n",
      "[CV] END model__colsample_bytree=0.8, model__learning_rate=0.1, model__max_depth=30, model__n_estimators=100, model__subsample=0.8; total time=   3.5s\n",
      "[CV] END model__colsample_bytree=0.8, model__learning_rate=0.01, model__max_depth=30, model__n_estimators=100, model__subsample=0.8; total time=   2.1s\n",
      "[CV] END model__colsample_bytree=0.8, model__learning_rate=0.1, model__max_depth=None, model__n_estimators=200, model__subsample=1.0; total time=   1.3s\n",
      "[CV] END model__colsample_bytree=0.8, model__learning_rate=0.01, model__max_depth=30, model__n_estimators=100, model__subsample=0.8; total time=   2.3s\n",
      "[CV] END model__colsample_bytree=0.8, model__learning_rate=0.01, model__max_depth=30, model__n_estimators=100, model__subsample=0.8; total time=   2.2s\n",
      "[CV] END model__colsample_bytree=0.8, model__learning_rate=0.01, model__max_depth=30, model__n_estimators=100, model__subsample=0.8; total time=   2.2s\n",
      "[CV] END model__colsample_bytree=1.0, model__learning_rate=0.01, model__max_depth=10, model__n_estimators=100, model__subsample=0.8; total time=   2.2s\n",
      "[CV] END model__colsample_bytree=1.0, model__learning_rate=0.01, model__max_depth=10, model__n_estimators=100, model__subsample=0.8; total time=   1.9s\n",
      "[CV] END model__colsample_bytree=1.0, model__learning_rate=0.01, model__max_depth=10, model__n_estimators=100, model__subsample=0.8; total time=   2.1s\n",
      "[CV] END model__colsample_bytree=1.0, model__learning_rate=0.01, model__max_depth=10, model__n_estimators=100, model__subsample=0.8; total time=   1.9s\n",
      "[CV] END model__colsample_bytree=1.0, model__learning_rate=0.01, model__max_depth=10, model__n_estimators=100, model__subsample=0.8; total time=   2.1s\n",
      "[CV] END model__colsample_bytree=1.0, model__learning_rate=0.05, model__max_depth=None, model__n_estimators=300, model__subsample=0.8; total time=   1.8s\n",
      "[CV] END model__colsample_bytree=1.0, model__learning_rate=0.05, model__max_depth=None, model__n_estimators=300, model__subsample=0.8; total time=   1.9s\n",
      "[CV] END model__colsample_bytree=1.0, model__learning_rate=0.05, model__max_depth=None, model__n_estimators=300, model__subsample=0.8; total time=   1.8s\n",
      "[CV] END model__colsample_bytree=1.0, model__learning_rate=0.05, model__max_depth=None, model__n_estimators=300, model__subsample=0.8; total time=   1.8s\n",
      "[CV] END model__colsample_bytree=1.0, model__learning_rate=0.05, model__max_depth=None, model__n_estimators=300, model__subsample=0.8; total time=   2.0s\n",
      "[CV] END model__colsample_bytree=1.0, model__learning_rate=0.1, model__max_depth=20, model__n_estimators=100, model__subsample=1.0; total time=   3.5s\n",
      "[CV] END model__colsample_bytree=1.0, model__learning_rate=0.1, model__max_depth=20, model__n_estimators=100, model__subsample=1.0; total time=   3.5s\n",
      "[CV] END model__colsample_bytree=1.0, model__learning_rate=0.1, model__max_depth=20, model__n_estimators=100, model__subsample=1.0; total time=   3.9s\n",
      "[CV] END model__colsample_bytree=1.0, model__learning_rate=0.1, model__max_depth=20, model__n_estimators=100, model__subsample=1.0; total time=   3.7s\n",
      "[CV] END model__colsample_bytree=1.0, model__learning_rate=0.1, model__max_depth=20, model__n_estimators=100, model__subsample=1.0; total time=   3.9s\n",
      "[CV] END model__colsample_bytree=0.8, model__learning_rate=0.05, model__max_depth=None, model__n_estimators=200, model__subsample=1.0; total time=   1.1s\n",
      "[CV] END model__colsample_bytree=0.8, model__learning_rate=0.05, model__max_depth=None, model__n_estimators=200, model__subsample=1.0; total time=   1.0s\n",
      "[CV] END model__colsample_bytree=0.8, model__learning_rate=0.05, model__max_depth=None, model__n_estimators=200, model__subsample=1.0; total time=   1.0s\n",
      "[CV] END model__colsample_bytree=0.8, model__learning_rate=0.05, model__max_depth=None, model__n_estimators=200, model__subsample=1.0; total time=   1.2s\n",
      "[CV] END model__colsample_bytree=0.8, model__learning_rate=0.05, model__max_depth=None, model__n_estimators=200, model__subsample=1.0; total time=   1.7s\n",
      "[CV] END model__colsample_bytree=0.8, model__learning_rate=0.1, model__max_depth=20, model__n_estimators=300, model__subsample=0.8; total time=   4.2s\n",
      "[CV] END model__colsample_bytree=0.8, model__learning_rate=0.1, model__max_depth=20, model__n_estimators=300, model__subsample=0.8; total time=   4.4s\n",
      "[CV] END model__colsample_bytree=0.8, model__learning_rate=0.1, model__max_depth=20, model__n_estimators=300, model__subsample=0.8; total time=   4.0s\n",
      "[CV] END model__colsample_bytree=1.0, model__learning_rate=0.1, model__max_depth=None, model__n_estimators=300, model__subsample=1.0; total time=   1.9s\n",
      "[CV] END model__colsample_bytree=0.8, model__learning_rate=0.1, model__max_depth=20, model__n_estimators=300, model__subsample=0.8; total time=   4.5s\n",
      "[CV] END model__colsample_bytree=0.8, model__learning_rate=0.1, model__max_depth=20, model__n_estimators=300, model__subsample=0.8; total time=   4.4s\n",
      "[CV] END model__colsample_bytree=0.8, model__learning_rate=0.1, model__max_depth=30, model__n_estimators=200, model__subsample=1.0; total time=   3.4s\n",
      "[CV] END model__colsample_bytree=1.0, model__learning_rate=0.1, model__max_depth=None, model__n_estimators=300, model__subsample=1.0; total time=   2.0s\n",
      "[CV] END model__colsample_bytree=0.8, model__learning_rate=0.1, model__max_depth=30, model__n_estimators=200, model__subsample=1.0; total time=   3.4s\n",
      "[CV] END model__colsample_bytree=0.8, model__learning_rate=0.1, model__max_depth=30, model__n_estimators=200, model__subsample=1.0; total time=   3.3s\n",
      "[CV] END model__colsample_bytree=0.8, model__learning_rate=0.1, model__max_depth=30, model__n_estimators=200, model__subsample=1.0; total time=   3.5s\n",
      "[CV] END model__colsample_bytree=0.8, model__learning_rate=0.1, model__max_depth=30, model__n_estimators=200, model__subsample=1.0; total time=   3.2s\n",
      "[CV] END model__colsample_bytree=1.0, model__learning_rate=0.01, model__max_depth=None, model__n_estimators=100, model__subsample=1.0; total time=   0.9s\n",
      "[CV] END model__colsample_bytree=1.0, model__learning_rate=0.01, model__max_depth=None, model__n_estimators=100, model__subsample=1.0; total time=   0.8s\n",
      "[CV] END model__colsample_bytree=1.0, model__learning_rate=0.1, model__max_depth=None, model__n_estimators=300, model__subsample=1.0; total time=   1.8s\n",
      "[CV] END model__colsample_bytree=1.0, model__learning_rate=0.01, model__max_depth=None, model__n_estimators=100, model__subsample=1.0; total time=   0.7s\n",
      "[CV] END model__colsample_bytree=1.0, model__learning_rate=0.01, model__max_depth=None, model__n_estimators=100, model__subsample=1.0; total time=   0.7s\n",
      "[CV] END model__colsample_bytree=1.0, model__learning_rate=0.01, model__max_depth=None, model__n_estimators=100, model__subsample=1.0; total time=   0.8s\n",
      "[CV] END model__colsample_bytree=1.0, model__learning_rate=0.01, model__max_depth=30, model__n_estimators=300, model__subsample=0.8; total time=   9.1s\n",
      "[CV] END model__colsample_bytree=1.0, model__learning_rate=0.01, model__max_depth=30, model__n_estimators=300, model__subsample=0.8; total time=   9.1s\n",
      "[CV] END model__colsample_bytree=1.0, model__learning_rate=0.01, model__max_depth=30, model__n_estimators=300, model__subsample=0.8; total time=   9.1s\n",
      "[CV] END model__colsample_bytree=1.0, model__learning_rate=0.1, model__max_depth=None, model__n_estimators=300, model__subsample=1.0; total time=   1.5s\n",
      "[CV] END model__colsample_bytree=1.0, model__learning_rate=0.01, model__max_depth=30, model__n_estimators=300, model__subsample=0.8; total time=   8.9s\n",
      "[CV] END model__colsample_bytree=1.0, model__learning_rate=0.01, model__max_depth=30, model__n_estimators=300, model__subsample=0.8; total time=   8.9s\n",
      "[CV] END model__colsample_bytree=1.0, model__learning_rate=0.1, model__max_depth=None, model__n_estimators=300, model__subsample=1.0; total time=   1.3s\n",
      "Best hyperparameters from random search: {'model__subsample': 1.0, 'model__n_estimators': 200, 'model__max_depth': None, 'model__learning_rate': 0.05, 'model__colsample_bytree': 0.8}\n",
      "Optimized MSE: 749366703.3621273\n",
      "Optimized R2 Score: 0.8926115456406168\n"
     ]
    }
   ],
   "source": [
    "pipeline = Pipeline([\n",
    "    ('model', XGBRegressor(random_state=42))  # Model to train\n",
    "])\n",
    "\n",
    "# Define the parameters for randomized search\n",
    "param_grid = {\n",
    "    'model__n_estimators': [100, 200, 300],\n",
    "    'model__max_depth': [None, 10, 20, 30],\n",
    "    'model__learning_rate': [0.01, 0.05, 0.1],  # Typical learning rates for XGBoost\n",
    "    'model__subsample': [0.8, 1.0],  # Subsample ratio\n",
    "    'model__colsample_bytree': [0.8, 1.0],  # Column subsample ratio\n",
    "}\n",
    "\n",
    "\n",
    "# Perform randomized search for hyperparameters\n",
    "random_search = RandomizedSearchCV(\n",
    "    pipeline, param_distributions=param_grid, n_iter=20, cv=5, n_jobs=-1, verbose=2, random_state=42\n",
    ")\n",
    "\n",
    "# Fit the randomized search to the training data\n",
    "random_search.fit(X_train, y_train)\n",
    "\n",
    "# Print the best hyperparameters found and evaluate the model\n",
    "print(f\"Best hyperparameters from random search: {random_search.best_params_}\")\n",
    "\n",
    "# Evaluate the optimized model\n",
    "optimized_model = random_search.best_estimator_\n",
    "y_pred_optimized = optimized_model.predict(X_test)\n",
    "\n",
    "# Inverse log-transform predictions and target\n",
    "y_test_original = np.expm1(y_test)\n",
    "y_pred_original = np.expm1(y_pred_optimized)\n",
    "\n",
    "# Calculate metrics\n",
    "mse_optimized = mean_squared_error(y_test_original, y_pred_original)\n",
    "r2_optimized = r2_score(y_test_original, y_pred_original)\n",
    "\n",
    "print(f\"Optimized MSE: {mse_optimized}\")\n",
    "print(f\"Optimized R2 Score: {r2_optimized}\")"
   ]
  },
  {
   "cell_type": "markdown",
   "metadata": {},
   "source": [
    "##### **Conclusion:**\n",
    "Both models performed well, but **XGBRegressor** slightly outperforms **Gradient Boosting Regressor** with a higher R2 Score of **0.89** compared to **0.88** for **Gradient Boosting**. The **Mean Absolute Error** for both models is relatively similar, but **XGBRegressor** has a lower error.\n",
    "\n",
    "Given this, **XGBRegressor** is chosen as the final model for predicting house prices due to its better performance after optimization."
   ]
  },
  {
   "cell_type": "code",
   "execution_count": 16,
   "metadata": {},
   "outputs": [
    {
     "data": {
      "text/plain": [
       "['outputs/best_model/best_xgboost_model.pkl']"
      ]
     },
     "execution_count": 16,
     "metadata": {},
     "output_type": "execute_result"
    }
   ],
   "source": [
    "# Save the best XGBRegressor model for reuse\n",
    "joblib.dump(random_search.best_estimator_, 'outputs/best_model/best_xgboost_model.pkl')"
   ]
  },
  {
   "cell_type": "markdown",
   "metadata": {},
   "source": [
    "___"
   ]
  },
  {
   "cell_type": "markdown",
   "metadata": {},
   "source": [
    "##### **Calculating Feature Importance**"
   ]
  },
  {
   "cell_type": "code",
   "execution_count": 17,
   "metadata": {},
   "outputs": [
    {
     "name": "stdout",
     "output_type": "stream",
     "text": [
      "       Feature  Importance\n",
      "5  OverallQual    0.441215\n",
      "4    GrLivArea    0.241932\n",
      "2   BsmtFinSF1    0.046593\n",
      "3   GarageArea    0.034944\n",
      "0     2ndFlrSF    0.019784\n"
     ]
    }
   ],
   "source": [
    "# Calculate permutation importance\n",
    "result = permutation_importance(optimized_model, X_test, y_test, n_repeats=10, random_state=42)\n",
    "\n",
    "# Create a DataFrame to store the results\n",
    "importance_df = pd.DataFrame({\n",
    "    'Feature': X.columns,\n",
    "    'Importance': result.importances_mean\n",
    "}).sort_values(by='Importance', ascending=False)\n",
    "\n",
    "# Check the DataFrame\n",
    "print(importance_df.head())"
   ]
  },
  {
   "cell_type": "code",
   "execution_count": null,
   "metadata": {},
   "outputs": [
    {
     "name": "stderr",
     "output_type": "stream",
     "text": [
      "/tmp/ipykernel_3809/3389775739.py:3: FutureWarning: \n",
      "\n",
      "Passing `palette` without assigning `hue` is deprecated and will be removed in v0.14.0. Assign the `y` variable to `hue` and set `legend=False` for the same effect.\n",
      "\n",
      "  sns.barplot(x=\"Importance\", y=\"Feature\", data=importance_df, palette=\"viridis\", orient=\"h\")\n"
     ]
    },
    {
     "name": "stdout",
     "output_type": "stream",
     "text": [
      "             Feature  Importance\n",
      "5        OverallQual    0.441215\n",
      "4          GrLivArea    0.241932\n",
      "2         BsmtFinSF1    0.046593\n",
      "3         GarageArea    0.034944\n",
      "0           2ndFlrSF    0.019784\n",
      "18  GarageFinish_Unf    0.005132\n",
      "22    KitchenQual_TA    0.004419\n",
      "1       BedroomAbvGr    0.004038\n",
      "21    KitchenQual_Gd    0.003613\n",
      "19    KitchenQual_Ex    0.002436\n",
      "10  BsmtFinType1_ALQ    0.002433\n",
      "9    BsmtExposure_No    0.001538\n",
      "16  GarageFinish_Fin    0.001268\n",
      "7    BsmtExposure_Gd    0.000246\n",
      "12  BsmtFinType1_GLQ    0.000122\n",
      "17  GarageFinish_RFn    0.000074\n",
      "11  BsmtFinType1_BLQ    0.000066\n",
      "8    BsmtExposure_Mn   -0.000095\n",
      "13  BsmtFinType1_LwQ   -0.000212\n",
      "6    BsmtExposure_Av   -0.000298\n",
      "15  BsmtFinType1_Unf   -0.000404\n",
      "14  BsmtFinType1_Rec   -0.000472\n",
      "20    KitchenQual_Fa   -0.000797\n"
     ]
    },
    {
     "data": {
      "image/png": "[encoded data removed]",
      "text/plain": [
       "<Figure size 1000x800 with 1 Axes>"
      ]
     },
     "metadata": {},
     "output_type": "display_data"
    }
   ],
   "source": [
    "# Visualize permutation importance\n",
    "plt.figure(figsize=(10, 8))\n",
    "sns.barplot(x=\"Importance\", y=\"Feature\", data=importance_df, palette=\"viridis\", orient=\"h\")\n",
    "plt.title(\"Impact of Features on Model Performance\")\n",
    "plt.xlabel(\"Importance\")\n",
    "plt.ylabel(\"Feature\")\n",
    "\n",
    "# Set the x-axis to start at 0\n",
    "plt.xlim(left=0)\n",
    "\n",
    "print(importance_df)\n",
    "\n",
    "plt.show()"
   ]
  },
  {
   "cell_type": "markdown",
   "metadata": {},
   "source": [
    "### Feature Importance Analysis\n",
    "- The most important feature is **OverallQual**, which has the biggest impact on the model's performance.\n",
    "- Other important features include **GrLivArea** and **BsmtFinSF1**, which also play significant roles.\n",
    "- Features like **GarageArea** and **2ndFlrSF** have smaller impacts but still contribute to the predictions.\n"
   ]
  }
 ],
 "metadata": {
  "kernelspec": {
   "display_name": "Python 3",
   "language": "python",
   "name": "python3"
  },
  "language_info": {
   "codemirror_mode": {
    "name": "ipython",
    "version": 3
   },
   "file_extension": ".py",
   "mimetype": "text/x-python",
   "name": "python",
   "nbconvert_exporter": "python",
   "pygments_lexer": "ipython3",
   "version": "3.8.18"
  }
 },
 "nbformat": 4,
 "nbformat_minor": 2
}
