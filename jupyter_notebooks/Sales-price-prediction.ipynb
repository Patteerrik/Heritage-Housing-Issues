{
 "cells": [
  {
   "cell_type": "markdown",
   "metadata": {},
   "source": [
    "# **Model Evaluation**"
   ]
  },
  {
   "cell_type": "markdown",
   "metadata": {},
   "source": [
    "## Objectives\n",
    "\n",
    "* Evaluate the performance of the optimized Gradient Boosting and XGBRegressor models.\n",
    "* Analyze feature importance to understand which variables have the most influence on house prices.\n",
    "* Ensure that the chosen model meets the business requirement (R2 ≥ 0.75)\n",
    "\n",
    "## Inputs\n",
    "\n",
    "* The prepared dataset (`HousePricesFeatures.csv`)\n",
    "* Libraries for machine learning and data handling, including:\n",
    "  - **pandas** for data manipulation.\n",
    "  - **sklearn** for machine learning and model training.\n",
    "  - **matplotlib** and **seaborn** for visualizations.\n",
    "  - **joblib** for saving and loading models.\n",
    "\n",
    "\n",
    "## Outputs\n",
    "\n",
    "* The optimized XGBRegressor model is saved as: jupyter_notebooks/outputs/best_model/best_xgboost_model.pkl.\n",
    "* Visualization of feature importance.\n",
    "* Model evaluation metrics (MSE, R2).\n",
    "* Conclusions regarding the model's performance and usability.\n"
   ]
  },
  {
   "cell_type": "markdown",
   "metadata": {},
   "source": [
    "___"
   ]
  },
  {
   "cell_type": "markdown",
   "metadata": {},
   "source": [
    "# Change working directory"
   ]
  },
  {
   "cell_type": "markdown",
   "metadata": {},
   "source": [
    "We need to change the working directory from its current folder to its parent folder\n",
    "* We access the current directory with os.getcwd()"
   ]
  },
  {
   "cell_type": "code",
   "execution_count": 1,
   "metadata": {},
   "outputs": [
    {
     "data": {
      "text/plain": [
       "'/workspace/Heritage-Housing-Issues/jupyter_notebooks'"
      ]
     },
     "execution_count": 1,
     "metadata": {},
     "output_type": "execute_result"
    }
   ],
   "source": [
    "import os\n",
    "current_dir = os.getcwd()\n",
    "current_dir"
   ]
  },
  {
   "cell_type": "markdown",
   "metadata": {},
   "source": [
    "We want to make the parent of the current directory the new current directory\n",
    "* os.path.dirname() gets the parent directory\n",
    "* os.chir() defines the new current directory"
   ]
  },
  {
   "cell_type": "code",
   "execution_count": 2,
   "metadata": {},
   "outputs": [
    {
     "name": "stdout",
     "output_type": "stream",
     "text": [
      "You set a new current directory\n"
     ]
    }
   ],
   "source": [
    "os.chdir(os.path.dirname(current_dir))\n",
    "print(\"You set a new current directory\")"
   ]
  },
  {
   "cell_type": "markdown",
   "metadata": {},
   "source": [
    "Confirm the new current directory"
   ]
  },
  {
   "cell_type": "code",
   "execution_count": 3,
   "metadata": {},
   "outputs": [
    {
     "data": {
      "text/plain": [
       "'/workspace/Heritage-Housing-Issues'"
      ]
     },
     "execution_count": 3,
     "metadata": {},
     "output_type": "execute_result"
    }
   ],
   "source": [
    "current_dir = os.getcwd()\n",
    "current_dir"
   ]
  },
  {
   "cell_type": "markdown",
   "metadata": {},
   "source": [
    "___"
   ]
  },
  {
   "cell_type": "markdown",
   "metadata": {},
   "source": [
    "### Imports"
   ]
  },
  {
   "cell_type": "code",
   "execution_count": 7,
   "metadata": {},
   "outputs": [],
   "source": [
    "import pandas as pd\n",
    "import numpy as np\n",
    "from sklearn.model_selection import train_test_split, RandomizedSearchCV\n",
    "from sklearn.ensemble import GradientBoostingRegressor\n",
    "from sklearn.pipeline import Pipeline\n",
    "from sklearn.metrics import mean_squared_error, r2_score\n",
    "from sklearn.inspection import permutation_importance\n",
    "import matplotlib.pyplot as plt\n",
    "import seaborn as sns\n",
    "from joblib import dump \n",
    "from xgboost import XGBRegressor"
   ]
  },
  {
   "cell_type": "markdown",
   "metadata": {},
   "source": [
    "# Load data"
   ]
  },
  {
   "cell_type": "code",
   "execution_count": 2,
   "metadata": {},
   "outputs": [
    {
     "data": {
      "text/html": [
       "<div>\n",
       "<style scoped>\n",
       "    .dataframe tbody tr th:only-of-type {\n",
       "        vertical-align: middle;\n",
       "    }\n",
       "\n",
       "    .dataframe tbody tr th {\n",
       "        vertical-align: top;\n",
       "    }\n",
       "\n",
       "    .dataframe thead th {\n",
       "        text-align: right;\n",
       "    }\n",
       "</style>\n",
       "<table border=\"1\" class=\"dataframe\">\n",
       "  <thead>\n",
       "    <tr style=\"text-align: right;\">\n",
       "      <th></th>\n",
       "      <th>SalePrice</th>\n",
       "      <th>OverallQual</th>\n",
       "      <th>GrLivArea</th>\n",
       "      <th>GarageArea</th>\n",
       "      <th>TotalBsmtSF</th>\n",
       "    </tr>\n",
       "  </thead>\n",
       "  <tbody>\n",
       "    <tr>\n",
       "      <th>0</th>\n",
       "      <td>208500.0</td>\n",
       "      <td>7</td>\n",
       "      <td>7.621711</td>\n",
       "      <td>204.517915</td>\n",
       "      <td>198.284295</td>\n",
       "    </tr>\n",
       "    <tr>\n",
       "      <th>1</th>\n",
       "      <td>181500.0</td>\n",
       "      <td>6</td>\n",
       "      <td>7.303622</td>\n",
       "      <td>177.329636</td>\n",
       "      <td>264.601145</td>\n",
       "    </tr>\n",
       "    <tr>\n",
       "      <th>2</th>\n",
       "      <td>223500.0</td>\n",
       "      <td>7</td>\n",
       "      <td>7.667292</td>\n",
       "      <td>222.579733</td>\n",
       "      <td>209.206786</td>\n",
       "    </tr>\n",
       "    <tr>\n",
       "      <th>3</th>\n",
       "      <td>140000.0</td>\n",
       "      <td>7</td>\n",
       "      <td>7.625993</td>\n",
       "      <td>232.664362</td>\n",
       "      <td>180.779930</td>\n",
       "    </tr>\n",
       "    <tr>\n",
       "      <th>4</th>\n",
       "      <td>250000.0</td>\n",
       "      <td>8</td>\n",
       "      <td>7.885038</td>\n",
       "      <td>288.451992</td>\n",
       "      <td>246.150776</td>\n",
       "    </tr>\n",
       "  </tbody>\n",
       "</table>\n",
       "</div>"
      ],
      "text/plain": [
       "   SalePrice  OverallQual  GrLivArea  GarageArea  TotalBsmtSF\n",
       "0   208500.0            7   7.621711  204.517915   198.284295\n",
       "1   181500.0            6   7.303622  177.329636   264.601145\n",
       "2   223500.0            7   7.667292  222.579733   209.206786\n",
       "3   140000.0            7   7.625993  232.664362   180.779930\n",
       "4   250000.0            8   7.885038  288.451992   246.150776"
      ]
     },
     "execution_count": 2,
     "metadata": {},
     "output_type": "execute_result"
    }
   ],
   "source": [
    "df_selected = pd.read_csv(\"outputs/datasets/collection/HousePricesFeaturesSelected.csv\")\n",
    "df_selected.head()"
   ]
  },
  {
   "cell_type": "code",
   "execution_count": 3,
   "metadata": {},
   "outputs": [],
   "source": [
    "# Define features and target variable\n",
    "X = df_selected.drop('SalePrice', axis=1)\n",
    "y = np.log1p(df_selected['SalePrice'])  # Log-transform the target variable"
   ]
  },
  {
   "cell_type": "code",
   "execution_count": 4,
   "metadata": {},
   "outputs": [],
   "source": [
    "# Split data into training and testing sets\n",
    "X_train, X_test, y_train, y_test = train_test_split(X, y, test_size=0.3, random_state=42)"
   ]
  },
  {
   "cell_type": "markdown",
   "metadata": {},
   "source": [
    "##### **Gradient Boosting Regressor optimization**"
   ]
  },
  {
   "cell_type": "code",
   "execution_count": 5,
   "metadata": {},
   "outputs": [
    {
     "name": "stdout",
     "output_type": "stream",
     "text": [
      "Fitting 5 folds for each of 20 candidates, totalling 100 fits\n"
     ]
    },
    {
     "name": "stdout",
     "output_type": "stream",
     "text": [
      "[CV] END model__max_depth=None, model__min_samples_leaf=1, model__min_samples_split=5, model__n_estimators=200; total time=   4.6s\n",
      "[CV] END model__max_depth=None, model__min_samples_leaf=1, model__min_samples_split=5, model__n_estimators=200; total time=   4.7s\n",
      "[CV] END model__max_depth=None, model__min_samples_leaf=2, model__min_samples_split=2, model__n_estimators=200; total time=   5.0s\n",
      "[CV] END model__max_depth=None, model__min_samples_leaf=1, model__min_samples_split=5, model__n_estimators=200; total time=   4.9s\n",
      "[CV] END model__max_depth=20, model__min_samples_leaf=4, model__min_samples_split=5, model__n_estimators=300; total time=   6.4s\n",
      "[CV] END model__max_depth=None, model__min_samples_leaf=2, model__min_samples_split=2, model__n_estimators=200; total time=   5.2s\n",
      "[CV] END model__max_depth=None, model__min_samples_leaf=1, model__min_samples_split=5, model__n_estimators=200; total time=   5.0s\n",
      "[CV] END model__max_depth=None, model__min_samples_leaf=2, model__min_samples_split=2, model__n_estimators=200; total time=   6.3s\n",
      "[CV] END model__max_depth=None, model__min_samples_leaf=2, model__min_samples_split=2, model__n_estimators=200; total time=   5.3s\n",
      "[CV] END model__max_depth=None, model__min_samples_leaf=2, model__min_samples_split=2, model__n_estimators=200; total time=   5.9s\n",
      "[CV] END model__max_depth=30, model__min_samples_leaf=1, model__min_samples_split=2, model__n_estimators=300; total time=   5.3s\n",
      "[CV] END model__max_depth=20, model__min_samples_leaf=4, model__min_samples_split=5, model__n_estimators=300; total time=   7.1s\n",
      "[CV] END model__max_depth=None, model__min_samples_leaf=1, model__min_samples_split=5, model__n_estimators=200; total time=   6.0s\n",
      "[CV] END model__max_depth=20, model__min_samples_leaf=4, model__min_samples_split=5, model__n_estimators=300; total time=   6.9s\n",
      "[CV] END model__max_depth=20, model__min_samples_leaf=4, model__min_samples_split=5, model__n_estimators=300; total time=   6.4s\n",
      "[CV] END model__max_depth=20, model__min_samples_leaf=4, model__min_samples_split=5, model__n_estimators=300; total time=   6.1s\n",
      "[CV] END model__max_depth=10, model__min_samples_leaf=1, model__min_samples_split=5, model__n_estimators=100; total time=   1.4s\n",
      "[CV] END model__max_depth=10, model__min_samples_leaf=1, model__min_samples_split=5, model__n_estimators=100; total time=   1.4s\n",
      "[CV] END model__max_depth=10, model__min_samples_leaf=1, model__min_samples_split=5, model__n_estimators=100; total time=   1.3s\n",
      "[CV] END model__max_depth=10, model__min_samples_leaf=1, model__min_samples_split=5, model__n_estimators=100; total time=   1.4s\n",
      "[CV] END model__max_depth=20, model__min_samples_leaf=2, model__min_samples_split=5, model__n_estimators=200; total time=   4.0s\n",
      "[CV] END model__max_depth=20, model__min_samples_leaf=2, model__min_samples_split=5, model__n_estimators=200; total time=   3.9s\n",
      "[CV] END model__max_depth=30, model__min_samples_leaf=1, model__min_samples_split=2, model__n_estimators=300; total time=   5.5s\n",
      "[CV] END model__max_depth=20, model__min_samples_leaf=2, model__min_samples_split=5, model__n_estimators=200; total time=   4.5s\n",
      "[CV] END model__max_depth=20, model__min_samples_leaf=2, model__min_samples_split=5, model__n_estimators=200; total time=   4.2s\n",
      "[CV] END model__max_depth=30, model__min_samples_leaf=1, model__min_samples_split=2, model__n_estimators=300; total time=   5.3s\n",
      "[CV] END model__max_depth=10, model__min_samples_leaf=4, model__min_samples_split=2, model__n_estimators=100; total time=   1.3s\n",
      "[CV] END model__max_depth=10, model__min_samples_leaf=1, model__min_samples_split=5, model__n_estimators=100; total time=   1.4s\n",
      "[CV] END model__max_depth=20, model__min_samples_leaf=2, model__min_samples_split=5, model__n_estimators=200; total time=   4.2s\n",
      "[CV] END model__max_depth=30, model__min_samples_leaf=1, model__min_samples_split=2, model__n_estimators=300; total time=   5.5s\n",
      "[CV] END model__max_depth=30, model__min_samples_leaf=1, model__min_samples_split=2, model__n_estimators=300; total time=   5.6s\n",
      "[CV] END model__max_depth=10, model__min_samples_leaf=4, model__min_samples_split=2, model__n_estimators=100; total time=   1.2s\n",
      "[CV] END model__max_depth=10, model__min_samples_leaf=4, model__min_samples_split=2, model__n_estimators=100; total time=   1.5s\n",
      "[CV] END model__max_depth=20, model__min_samples_leaf=1, model__min_samples_split=10, model__n_estimators=300; total time=   5.7s\n",
      "[CV] END model__max_depth=20, model__min_samples_leaf=1, model__min_samples_split=10, model__n_estimators=300; total time=   5.9s\n",
      "[CV] END model__max_depth=20, model__min_samples_leaf=1, model__min_samples_split=10, model__n_estimators=300; total time=   6.0s\n",
      "[CV] END model__max_depth=10, model__min_samples_leaf=4, model__min_samples_split=2, model__n_estimators=100; total time=   1.1s\n",
      "[CV] END model__max_depth=20, model__min_samples_leaf=1, model__min_samples_split=10, model__n_estimators=300; total time=   6.2s\n",
      "[CV] END model__max_depth=20, model__min_samples_leaf=1, model__min_samples_split=10, model__n_estimators=300; total time=   6.2s\n",
      "[CV] END model__max_depth=10, model__min_samples_leaf=4, model__min_samples_split=2, model__n_estimators=100; total time=   1.4s\n",
      "[CV] END model__max_depth=30, model__min_samples_leaf=1, model__min_samples_split=2, model__n_estimators=100; total time=   1.6s\n",
      "[CV] END model__max_depth=30, model__min_samples_leaf=1, model__min_samples_split=2, model__n_estimators=100; total time=   1.6s\n",
      "[CV] END model__max_depth=30, model__min_samples_leaf=1, model__min_samples_split=2, model__n_estimators=100; total time=   1.7s\n",
      "[CV] END model__max_depth=30, model__min_samples_leaf=1, model__min_samples_split=2, model__n_estimators=100; total time=   1.8s\n",
      "[CV] END model__max_depth=30, model__min_samples_leaf=1, model__min_samples_split=2, model__n_estimators=100; total time=   1.7s\n",
      "[CV] END model__max_depth=None, model__min_samples_leaf=1, model__min_samples_split=2, model__n_estimators=100; total time=   1.8s\n",
      "[CV] END model__max_depth=20, model__min_samples_leaf=4, model__min_samples_split=10, model__n_estimators=200; total time=   4.1s\n",
      "[CV] END model__max_depth=20, model__min_samples_leaf=4, model__min_samples_split=10, model__n_estimators=200; total time=   3.7s\n",
      "[CV] END model__max_depth=None, model__min_samples_leaf=1, model__min_samples_split=2, model__n_estimators=100; total time=   1.5s\n",
      "[CV] END model__max_depth=20, model__min_samples_leaf=4, model__min_samples_split=10, model__n_estimators=200; total time=   4.2s\n",
      "[CV] END model__max_depth=20, model__min_samples_leaf=4, model__min_samples_split=10, model__n_estimators=200; total time=   4.2s\n",
      "[CV] END model__max_depth=20, model__min_samples_leaf=4, model__min_samples_split=10, model__n_estimators=200; total time=   3.9s\n",
      "[CV] END model__max_depth=None, model__min_samples_leaf=1, model__min_samples_split=2, model__n_estimators=100; total time=   1.6s\n",
      "[CV] END model__max_depth=30, model__min_samples_leaf=2, model__min_samples_split=5, model__n_estimators=300; total time=   7.3s\n",
      "[CV] END model__max_depth=None, model__min_samples_leaf=1, model__min_samples_split=2, model__n_estimators=100; total time=   1.5s\n",
      "[CV] END model__max_depth=30, model__min_samples_leaf=2, model__min_samples_split=5, model__n_estimators=300; total time=   7.7s\n",
      "[CV] END model__max_depth=30, model__min_samples_leaf=2, model__min_samples_split=5, model__n_estimators=300; total time=   7.8s\n",
      "[CV] END model__max_depth=None, model__min_samples_leaf=1, model__min_samples_split=2, model__n_estimators=100; total time=   2.0s\n",
      "[CV] END model__max_depth=None, model__min_samples_leaf=2, model__min_samples_split=2, model__n_estimators=300; total time=   8.0s\n",
      "[CV] END model__max_depth=30, model__min_samples_leaf=2, model__min_samples_split=5, model__n_estimators=300; total time=   8.5s\n",
      "[CV] END model__max_depth=None, model__min_samples_leaf=2, model__min_samples_split=2, model__n_estimators=300; total time=   8.5s\n",
      "[CV] END model__max_depth=None, model__min_samples_leaf=2, model__min_samples_split=2, model__n_estimators=300; total time=   8.6s\n",
      "[CV] END model__max_depth=30, model__min_samples_leaf=2, model__min_samples_split=5, model__n_estimators=300; total time=   9.1s\n",
      "[CV] END model__max_depth=None, model__min_samples_leaf=2, model__min_samples_split=2, model__n_estimators=300; total time=   8.7s\n",
      "[CV] END model__max_depth=None, model__min_samples_leaf=4, model__min_samples_split=2, model__n_estimators=100; total time=   2.1s\n",
      "[CV] END model__max_depth=None, model__min_samples_leaf=4, model__min_samples_split=2, model__n_estimators=100; total time=   2.1s\n",
      "[CV] END model__max_depth=None, model__min_samples_leaf=2, model__min_samples_split=2, model__n_estimators=300; total time=   9.4s\n",
      "[CV] END model__max_depth=None, model__min_samples_leaf=4, model__min_samples_split=2, model__n_estimators=100; total time=   2.4s\n",
      "[CV] END model__max_depth=20, model__min_samples_leaf=2, model__min_samples_split=10, model__n_estimators=100; total time=   2.1s\n",
      "[CV] END model__max_depth=20, model__min_samples_leaf=2, model__min_samples_split=10, model__n_estimators=100; total time=   2.0s\n",
      "[CV] END model__max_depth=20, model__min_samples_leaf=2, model__min_samples_split=10, model__n_estimators=100; total time=   1.9s\n",
      "[CV] END model__max_depth=20, model__min_samples_leaf=2, model__min_samples_split=10, model__n_estimators=100; total time=   1.9s\n",
      "[CV] END model__max_depth=20, model__min_samples_leaf=2, model__min_samples_split=10, model__n_estimators=100; total time=   2.5s\n",
      "[CV] END model__max_depth=None, model__min_samples_leaf=4, model__min_samples_split=2, model__n_estimators=100; total time=   3.0s\n",
      "[CV] END model__max_depth=None, model__min_samples_leaf=4, model__min_samples_split=2, model__n_estimators=100; total time=   3.8s\n",
      "[CV] END model__max_depth=20, model__min_samples_leaf=4, model__min_samples_split=10, model__n_estimators=300; total time=   5.4s\n",
      "[CV] END model__max_depth=20, model__min_samples_leaf=4, model__min_samples_split=10, model__n_estimators=300; total time=   6.0s\n",
      "[CV] END model__max_depth=20, model__min_samples_leaf=4, model__min_samples_split=10, model__n_estimators=300; total time=   5.9s\n",
      "[CV] END model__max_depth=20, model__min_samples_leaf=4, model__min_samples_split=10, model__n_estimators=300; total time=   6.4s\n",
      "[CV] END model__max_depth=20, model__min_samples_leaf=4, model__min_samples_split=10, model__n_estimators=300; total time=   5.7s\n",
      "[CV] END model__max_depth=10, model__min_samples_leaf=2, model__min_samples_split=10, model__n_estimators=100; total time=   1.4s\n",
      "[CV] END model__max_depth=20, model__min_samples_leaf=1, model__min_samples_split=2, model__n_estimators=300; total time=   4.7s\n",
      "[CV] END model__max_depth=20, model__min_samples_leaf=1, model__min_samples_split=2, model__n_estimators=300; total time=   4.6s\n",
      "[CV] END model__max_depth=20, model__min_samples_leaf=4, model__min_samples_split=5, model__n_estimators=200; total time=   3.9s\n",
      "[CV] END model__max_depth=20, model__min_samples_leaf=4, model__min_samples_split=5, model__n_estimators=200; total time=   3.8s\n",
      "[CV] END model__max_depth=20, model__min_samples_leaf=4, model__min_samples_split=5, model__n_estimators=200; total time=   4.0s\n",
      "[CV] END model__max_depth=20, model__min_samples_leaf=1, model__min_samples_split=2, model__n_estimators=300; total time=   5.1s\n",
      "[CV] END model__max_depth=20, model__min_samples_leaf=1, model__min_samples_split=2, model__n_estimators=300; total time=   5.2s\n",
      "[CV] END model__max_depth=20, model__min_samples_leaf=4, model__min_samples_split=5, model__n_estimators=200; total time=   3.9s\n",
      "[CV] END model__max_depth=10, model__min_samples_leaf=2, model__min_samples_split=10, model__n_estimators=100; total time=   1.0s\n",
      "[CV] END model__max_depth=20, model__min_samples_leaf=4, model__min_samples_split=5, model__n_estimators=200; total time=   4.4s\n",
      "[CV] END model__max_depth=20, model__min_samples_leaf=1, model__min_samples_split=2, model__n_estimators=300; total time=   4.9s\n",
      "[CV] END model__max_depth=10, model__min_samples_leaf=2, model__min_samples_split=10, model__n_estimators=100; total time=   1.1s\n",
      "[CV] END model__max_depth=10, model__min_samples_leaf=2, model__min_samples_split=10, model__n_estimators=100; total time=   1.0s\n",
      "[CV] END model__max_depth=10, model__min_samples_leaf=2, model__min_samples_split=10, model__n_estimators=100; total time=   0.9s\n",
      "[CV] END model__max_depth=30, model__min_samples_leaf=4, model__min_samples_split=10, model__n_estimators=200; total time=   3.7s\n",
      "[CV] END model__max_depth=30, model__min_samples_leaf=4, model__min_samples_split=10, model__n_estimators=200; total time=   3.8s\n",
      "[CV] END model__max_depth=30, model__min_samples_leaf=4, model__min_samples_split=10, model__n_estimators=200; total time=   3.3s\n",
      "[CV] END model__max_depth=30, model__min_samples_leaf=4, model__min_samples_split=10, model__n_estimators=200; total time=   3.0s\n",
      "[CV] END model__max_depth=30, model__min_samples_leaf=4, model__min_samples_split=10, model__n_estimators=200; total time=   3.1s\n",
      "Best hyperparameters from random search: {'model__n_estimators': 100, 'model__min_samples_split': 2, 'model__min_samples_leaf': 4, 'model__max_depth': 10}\n",
      "Optimized MSE: 953330178.3225563\n",
      "Optimized R2 Score: 0.8633824349482185\n"
     ]
    }
   ],
   "source": [
    "pipeline = Pipeline([\n",
    "    ('model', GradientBoostingRegressor(random_state=42))  # Model to train\n",
    "])\n",
    "\n",
    "# Define the parameters for randomized search\n",
    "param_grid = {\n",
    "    'model__n_estimators': [100, 200, 300],\n",
    "    'model__max_depth': [None, 10, 20, 30],\n",
    "    'model__min_samples_split': [2, 5, 10],\n",
    "    'model__min_samples_leaf': [1, 2, 4]\n",
    "}\n",
    "\n",
    "# Perform randomized search for hyperparameters\n",
    "random_search = RandomizedSearchCV(\n",
    "    pipeline, param_distributions=param_grid, n_iter=20, cv=5, n_jobs=-1, verbose=2, random_state=42\n",
    ")\n",
    "\n",
    "# Fit the randomized search to the training data\n",
    "random_search.fit(X_train, y_train)\n",
    "\n",
    "# Print the best hyperparameters found and evaluate the model\n",
    "print(f\"Best hyperparameters from random search: {random_search.best_params_}\")\n",
    "\n",
    "# Evaluate the optimized model\n",
    "optimized_model = random_search.best_estimator_\n",
    "y_pred_optimized = optimized_model.predict(X_test)\n",
    "\n",
    "# Inverse log-transform predictions and target\n",
    "y_test_original = np.expm1(y_test)\n",
    "y_pred_original = np.expm1(y_pred_optimized)\n",
    "\n",
    "# Calculate metrics\n",
    "mse_optimized = mean_squared_error(y_test_original, y_pred_original)\n",
    "r2_optimized = r2_score(y_test_original, y_pred_original)\n",
    "\n",
    "print(f\"Optimized MSE: {mse_optimized}\")\n",
    "print(f\"Optimized R2 Score: {r2_optimized}\")"
   ]
  },
  {
   "cell_type": "markdown",
   "metadata": {},
   "source": [
    "##### **XGBRegressor optimization**"
   ]
  },
  {
   "cell_type": "code",
   "execution_count": 6,
   "metadata": {},
   "outputs": [
    {
     "name": "stdout",
     "output_type": "stream",
     "text": [
      "Fitting 5 folds for each of 20 candidates, totalling 100 fits\n",
      "[CV] END model__colsample_bytree=1.0, model__learning_rate=0.05, model__max_depth=None, model__n_estimators=100, model__subsample=1.0; total time=   0.5s\n",
      "[CV] END model__colsample_bytree=1.0, model__learning_rate=0.05, model__max_depth=None, model__n_estimators=100, model__subsample=1.0; total time=   0.4s\n",
      "[CV] END model__colsample_bytree=0.8, model__learning_rate=0.01, model__max_depth=30, model__n_estimators=100, model__subsample=1.0; total time=   1.4s\n",
      "[CV] END model__colsample_bytree=0.8, model__learning_rate=0.01, model__max_depth=30, model__n_estimators=100, model__subsample=1.0; total time=   1.5s\n",
      "[CV] END model__colsample_bytree=0.8, model__learning_rate=0.01, model__max_depth=30, model__n_estimators=100, model__subsample=1.0; total time=   1.4s\n",
      "[CV] END model__colsample_bytree=0.8, model__learning_rate=0.01, model__max_depth=30, model__n_estimators=100, model__subsample=1.0; total time=   1.5s\n",
      "[CV] END model__colsample_bytree=0.8, model__learning_rate=0.01, model__max_depth=30, model__n_estimators=100, model__subsample=1.0; total time=   1.6s\n",
      "[CV] END model__colsample_bytree=1.0, model__learning_rate=0.05, model__max_depth=None, model__n_estimators=100, model__subsample=1.0; total time=   0.4s\n",
      "[CV] END model__colsample_bytree=1.0, model__learning_rate=0.05, model__max_depth=None, model__n_estimators=100, model__subsample=1.0; total time=   0.4s\n",
      "[CV] END model__colsample_bytree=1.0, model__learning_rate=0.05, model__max_depth=None, model__n_estimators=100, model__subsample=1.0; total time=   0.4s\n",
      "[CV] END model__colsample_bytree=0.8, model__learning_rate=0.1, model__max_depth=10, model__n_estimators=200, model__subsample=0.8; total time=   1.5s\n",
      "[CV] END model__colsample_bytree=0.8, model__learning_rate=0.1, model__max_depth=10, model__n_estimators=200, model__subsample=0.8; total time=   1.5s\n",
      "[CV] END model__colsample_bytree=0.8, model__learning_rate=0.1, model__max_depth=10, model__n_estimators=200, model__subsample=0.8; total time=   1.4s\n",
      "[CV] END model__colsample_bytree=0.8, model__learning_rate=0.1, model__max_depth=10, model__n_estimators=200, model__subsample=0.8; total time=   1.6s\n",
      "[CV] END model__colsample_bytree=1.0, model__learning_rate=0.01, model__max_depth=10, model__n_estimators=300, model__subsample=0.8; total time=   3.4s\n",
      "[CV] END model__colsample_bytree=0.8, model__learning_rate=0.1, model__max_depth=10, model__n_estimators=200, model__subsample=0.8; total time=   1.6s\n",
      "[CV] END model__colsample_bytree=0.8, model__learning_rate=0.01, model__max_depth=20, model__n_estimators=100, model__subsample=0.8; total time=   1.5s\n",
      "[CV] END model__colsample_bytree=1.0, model__learning_rate=0.01, model__max_depth=10, model__n_estimators=300, model__subsample=0.8; total time=   3.4s\n",
      "[CV] END model__colsample_bytree=1.0, model__learning_rate=0.01, model__max_depth=10, model__n_estimators=300, model__subsample=0.8; total time=   3.5s\n",
      "[CV] END model__colsample_bytree=1.0, model__learning_rate=0.01, model__max_depth=10, model__n_estimators=300, model__subsample=0.8; total time=   3.7s\n",
      "[CV] END model__colsample_bytree=1.0, model__learning_rate=0.01, model__max_depth=10, model__n_estimators=300, model__subsample=0.8; total time=   4.3s\n",
      "[CV] END model__colsample_bytree=0.8, model__learning_rate=0.01, model__max_depth=20, model__n_estimators=100, model__subsample=0.8; total time=   1.3s\n",
      "[CV] END model__colsample_bytree=0.8, model__learning_rate=0.01, model__max_depth=20, model__n_estimators=100, model__subsample=0.8; total time=   1.2s\n",
      "[CV] END model__colsample_bytree=0.8, model__learning_rate=0.01, model__max_depth=20, model__n_estimators=100, model__subsample=0.8; total time=   1.5s\n",
      "[CV] END model__colsample_bytree=0.8, model__learning_rate=0.01, model__max_depth=20, model__n_estimators=100, model__subsample=0.8; total time=   1.3s\n",
      "[CV] END model__colsample_bytree=1.0, model__learning_rate=0.05, model__max_depth=30, model__n_estimators=200, model__subsample=1.0; total time=   5.1s\n",
      "[CV] END model__colsample_bytree=1.0, model__learning_rate=0.05, model__max_depth=30, model__n_estimators=200, model__subsample=1.0; total time=   5.0s\n",
      "[CV] END model__colsample_bytree=1.0, model__learning_rate=0.1, model__max_depth=20, model__n_estimators=100, model__subsample=0.8; total time=   2.0s\n",
      "[CV] END model__colsample_bytree=1.0, model__learning_rate=0.1, model__max_depth=20, model__n_estimators=100, model__subsample=0.8; total time=   2.0s\n",
      "[CV] END model__colsample_bytree=1.0, model__learning_rate=0.05, model__max_depth=30, model__n_estimators=200, model__subsample=1.0; total time=   5.6s\n",
      "[CV] END model__colsample_bytree=1.0, model__learning_rate=0.05, model__max_depth=30, model__n_estimators=200, model__subsample=1.0; total time=   5.5s\n",
      "[CV] END model__colsample_bytree=1.0, model__learning_rate=0.05, model__max_depth=30, model__n_estimators=200, model__subsample=1.0; total time=   5.7s\n",
      "[CV] END model__colsample_bytree=1.0, model__learning_rate=0.1, model__max_depth=20, model__n_estimators=100, model__subsample=0.8; total time=   2.3s\n",
      "[CV] END model__colsample_bytree=1.0, model__learning_rate=0.1, model__max_depth=20, model__n_estimators=100, model__subsample=0.8; total time=   2.4s\n",
      "[CV] END model__colsample_bytree=0.8, model__learning_rate=0.1, model__max_depth=20, model__n_estimators=300, model__subsample=1.0; total time=   2.2s\n",
      "[CV] END model__colsample_bytree=1.0, model__learning_rate=0.1, model__max_depth=20, model__n_estimators=100, model__subsample=0.8; total time=   2.3s\n",
      "[CV] END model__colsample_bytree=0.8, model__learning_rate=0.1, model__max_depth=30, model__n_estimators=100, model__subsample=0.8; total time=   1.8s\n",
      "[CV] END model__colsample_bytree=0.8, model__learning_rate=0.1, model__max_depth=None, model__n_estimators=200, model__subsample=1.0; total time=   0.6s\n",
      "[CV] END model__colsample_bytree=0.8, model__learning_rate=0.1, model__max_depth=None, model__n_estimators=200, model__subsample=1.0; total time=   0.7s\n",
      "[CV] END model__colsample_bytree=0.8, model__learning_rate=0.1, model__max_depth=20, model__n_estimators=300, model__subsample=1.0; total time=   2.2s\n",
      "[CV] END model__colsample_bytree=0.8, model__learning_rate=0.01, model__max_depth=30, model__n_estimators=100, model__subsample=0.8; total time=   1.2s[CV] END model__colsample_bytree=0.8, model__learning_rate=0.01, model__max_depth=30, model__n_estimators=100, model__subsample=0.8; total time=   1.2s\n",
      "\n",
      "[CV] END model__colsample_bytree=0.8, model__learning_rate=0.1, model__max_depth=20, model__n_estimators=300, model__subsample=1.0; total time=   2.6s\n",
      "[CV] END model__colsample_bytree=0.8, model__learning_rate=0.1, model__max_depth=None, model__n_estimators=200, model__subsample=1.0; total time=   0.6s\n",
      "[CV] END model__colsample_bytree=0.8, model__learning_rate=0.1, model__max_depth=20, model__n_estimators=300, model__subsample=1.0; total time=   2.5s\n",
      "[CV] END model__colsample_bytree=0.8, model__learning_rate=0.01, model__max_depth=30, model__n_estimators=100, model__subsample=0.8; total time=   1.4s\n",
      "[CV] END model__colsample_bytree=0.8, model__learning_rate=0.01, model__max_depth=30, model__n_estimators=100, model__subsample=0.8; total time=   1.3s\n",
      "[CV] END model__colsample_bytree=0.8, model__learning_rate=0.1, model__max_depth=30, model__n_estimators=100, model__subsample=0.8; total time=   2.0s\n",
      "[CV] END model__colsample_bytree=0.8, model__learning_rate=0.01, model__max_depth=30, model__n_estimators=100, model__subsample=0.8; total time=   1.2s\n",
      "[CV] END model__colsample_bytree=0.8, model__learning_rate=0.1, model__max_depth=None, model__n_estimators=200, model__subsample=1.0; total time=   0.7s\n",
      "[CV] END model__colsample_bytree=0.8, model__learning_rate=0.1, model__max_depth=None, model__n_estimators=200, model__subsample=1.0; total time=   0.6s\n",
      "[CV] END model__colsample_bytree=0.8, model__learning_rate=0.1, model__max_depth=30, model__n_estimators=100, model__subsample=0.8; total time=   2.1s\n",
      "[CV] END model__colsample_bytree=0.8, model__learning_rate=0.1, model__max_depth=30, model__n_estimators=100, model__subsample=0.8; total time=   1.9s\n",
      "[CV] END model__colsample_bytree=0.8, model__learning_rate=0.1, model__max_depth=20, model__n_estimators=300, model__subsample=1.0; total time=   3.3s\n",
      "[CV] END model__colsample_bytree=0.8, model__learning_rate=0.1, model__max_depth=30, model__n_estimators=100, model__subsample=0.8; total time=   2.2s\n",
      "[CV] END model__colsample_bytree=1.0, model__learning_rate=0.01, model__max_depth=10, model__n_estimators=100, model__subsample=0.8; total time=   1.1s\n",
      "[CV] END model__colsample_bytree=1.0, model__learning_rate=0.01, model__max_depth=10, model__n_estimators=100, model__subsample=0.8; total time=   1.0s\n",
      "[CV] END model__colsample_bytree=1.0, model__learning_rate=0.01, model__max_depth=10, model__n_estimators=100, model__subsample=0.8; total time=   1.1s\n",
      "[CV] END model__colsample_bytree=1.0, model__learning_rate=0.01, model__max_depth=10, model__n_estimators=100, model__subsample=0.8; total time=   1.1s\n",
      "[CV] END model__colsample_bytree=1.0, model__learning_rate=0.01, model__max_depth=10, model__n_estimators=100, model__subsample=0.8; total time=   1.2s\n",
      "[CV] END model__colsample_bytree=1.0, model__learning_rate=0.05, model__max_depth=None, model__n_estimators=300, model__subsample=0.8; total time=   0.9s[CV] END model__colsample_bytree=1.0, model__learning_rate=0.05, model__max_depth=None, model__n_estimators=300, model__subsample=0.8; total time=   0.9s\n",
      "\n",
      "[CV] END model__colsample_bytree=1.0, model__learning_rate=0.05, model__max_depth=None, model__n_estimators=300, model__subsample=0.8; total time=   0.9s\n",
      "[CV] END model__colsample_bytree=1.0, model__learning_rate=0.05, model__max_depth=None, model__n_estimators=300, model__subsample=0.8; total time=   1.1s\n",
      "[CV] END model__colsample_bytree=1.0, model__learning_rate=0.05, model__max_depth=None, model__n_estimators=300, model__subsample=0.8; total time=   1.1s\n",
      "[CV] END model__colsample_bytree=0.8, model__learning_rate=0.05, model__max_depth=None, model__n_estimators=200, model__subsample=1.0; total time=   0.6s\n",
      "[CV] END model__colsample_bytree=1.0, model__learning_rate=0.1, model__max_depth=20, model__n_estimators=100, model__subsample=1.0; total time=   2.6s\n",
      "[CV] END model__colsample_bytree=1.0, model__learning_rate=0.1, model__max_depth=20, model__n_estimators=100, model__subsample=1.0; total time=   2.6s\n",
      "[CV] END model__colsample_bytree=1.0, model__learning_rate=0.1, model__max_depth=20, model__n_estimators=100, model__subsample=1.0; total time=   3.0s\n",
      "[CV] END model__colsample_bytree=1.0, model__learning_rate=0.1, model__max_depth=20, model__n_estimators=100, model__subsample=1.0; total time=   2.6s\n",
      "[CV] END model__colsample_bytree=1.0, model__learning_rate=0.1, model__max_depth=20, model__n_estimators=100, model__subsample=1.0; total time=   2.9s\n",
      "[CV] END model__colsample_bytree=0.8, model__learning_rate=0.05, model__max_depth=None, model__n_estimators=200, model__subsample=1.0; total time=   0.7s\n",
      "[CV] END model__colsample_bytree=0.8, model__learning_rate=0.05, model__max_depth=None, model__n_estimators=200, model__subsample=1.0; total time=   0.6s\n",
      "[CV] END model__colsample_bytree=0.8, model__learning_rate=0.05, model__max_depth=None, model__n_estimators=200, model__subsample=1.0; total time=   0.7s\n",
      "[CV] END model__colsample_bytree=0.8, model__learning_rate=0.05, model__max_depth=None, model__n_estimators=200, model__subsample=1.0; total time=   0.7s\n",
      "[CV] END model__colsample_bytree=0.8, model__learning_rate=0.1, model__max_depth=20, model__n_estimators=300, model__subsample=0.8; total time=   2.9s\n",
      "[CV] END model__colsample_bytree=0.8, model__learning_rate=0.1, model__max_depth=20, model__n_estimators=300, model__subsample=0.8; total time=   2.7s\n",
      "[CV] END model__colsample_bytree=0.8, model__learning_rate=0.1, model__max_depth=20, model__n_estimators=300, model__subsample=0.8; total time=   2.8s\n",
      "[CV] END model__colsample_bytree=0.8, model__learning_rate=0.1, model__max_depth=20, model__n_estimators=300, model__subsample=0.8; total time=   3.0s\n",
      "[CV] END model__colsample_bytree=1.0, model__learning_rate=0.1, model__max_depth=None, model__n_estimators=300, model__subsample=1.0; total time=   1.1s\n",
      "[CV] END model__colsample_bytree=0.8, model__learning_rate=0.1, model__max_depth=20, model__n_estimators=300, model__subsample=0.8; total time=   3.1s\n",
      "[CV] END model__colsample_bytree=1.0, model__learning_rate=0.1, model__max_depth=None, model__n_estimators=300, model__subsample=1.0; total time=   1.0s\n",
      "[CV] END model__colsample_bytree=1.0, model__learning_rate=0.1, model__max_depth=None, model__n_estimators=300, model__subsample=1.0; total time=   1.1s\n",
      "[CV] END model__colsample_bytree=1.0, model__learning_rate=0.1, model__max_depth=None, model__n_estimators=300, model__subsample=1.0; total time=   1.0s\n",
      "[CV] END model__colsample_bytree=0.8, model__learning_rate=0.1, model__max_depth=30, model__n_estimators=200, model__subsample=1.0; total time=   2.3s\n",
      "[CV] END model__colsample_bytree=1.0, model__learning_rate=0.01, model__max_depth=None, model__n_estimators=100, model__subsample=1.0; total time=   0.4s\n",
      "[CV] END model__colsample_bytree=0.8, model__learning_rate=0.1, model__max_depth=30, model__n_estimators=200, model__subsample=1.0; total time=   2.3s\n",
      "[CV] END model__colsample_bytree=1.0, model__learning_rate=0.01, model__max_depth=None, model__n_estimators=100, model__subsample=1.0; total time=   0.5s\n",
      "[CV] END model__colsample_bytree=1.0, model__learning_rate=0.01, model__max_depth=30, model__n_estimators=300, model__subsample=0.8; total time=   5.7s\n",
      "[CV] END model__colsample_bytree=1.0, model__learning_rate=0.01, model__max_depth=None, model__n_estimators=100, model__subsample=1.0; total time=   0.4s\n",
      "[CV] END model__colsample_bytree=1.0, model__learning_rate=0.01, model__max_depth=None, model__n_estimators=100, model__subsample=1.0; total time=   0.4s\n",
      "[CV] END model__colsample_bytree=0.8, model__learning_rate=0.1, model__max_depth=30, model__n_estimators=200, model__subsample=1.0; total time=   2.2s\n",
      "[CV] END model__colsample_bytree=1.0, model__learning_rate=0.1, model__max_depth=None, model__n_estimators=300, model__subsample=1.0; total time=   0.9s\n",
      "[CV] END model__colsample_bytree=1.0, model__learning_rate=0.01, model__max_depth=30, model__n_estimators=300, model__subsample=0.8; total time=   5.6s\n",
      "[CV] END model__colsample_bytree=0.8, model__learning_rate=0.1, model__max_depth=30, model__n_estimators=200, model__subsample=1.0; total time=   2.2s\n",
      "[CV] END model__colsample_bytree=1.0, model__learning_rate=0.01, model__max_depth=None, model__n_estimators=100, model__subsample=1.0; total time=   0.3s\n",
      "[CV] END model__colsample_bytree=0.8, model__learning_rate=0.1, model__max_depth=30, model__n_estimators=200, model__subsample=1.0; total time=   2.2s\n",
      "[CV] END model__colsample_bytree=1.0, model__learning_rate=0.01, model__max_depth=30, model__n_estimators=300, model__subsample=0.8; total time=   5.8s\n",
      "[CV] END model__colsample_bytree=1.0, model__learning_rate=0.01, model__max_depth=30, model__n_estimators=300, model__subsample=0.8; total time=   5.8s\n",
      "[CV] END model__colsample_bytree=1.0, model__learning_rate=0.01, model__max_depth=30, model__n_estimators=300, model__subsample=0.8; total time=   5.8s\n",
      "Best hyperparameters from random search: {'model__subsample': 0.8, 'model__n_estimators': 300, 'model__max_depth': 10, 'model__learning_rate': 0.01, 'model__colsample_bytree': 1.0}\n",
      "Optimized MSE: 1083823768.657638\n",
      "Optimized R2 Score: 0.8446819710671605\n",
      "Saving the best model: <class 'xgboost.sklearn.XGBRegressor'>\n"
     ]
    }
   ],
   "source": [
    "pipeline = Pipeline([\n",
    "    ('model', XGBRegressor(random_state=42))  # Model to train\n",
    "])\n",
    "\n",
    "# Define the parameters for randomized search\n",
    "param_grid = {\n",
    "    'model__n_estimators': [100, 200, 300],\n",
    "    'model__max_depth': [None, 10, 20, 30],\n",
    "    'model__learning_rate': [0.01, 0.05, 0.1],  # Typical learning rates for XGBoost\n",
    "    'model__subsample': [0.8, 1.0],  # Subsample ratio\n",
    "    'model__colsample_bytree': [0.8, 1.0],  # Column subsample ratio\n",
    "}\n",
    "\n",
    "\n",
    "# Perform randomized search for hyperparameters\n",
    "random_search = RandomizedSearchCV(\n",
    "    pipeline, param_distributions=param_grid, n_iter=20, cv=5, n_jobs=-1, verbose=2, random_state=42\n",
    ")\n",
    "\n",
    "# Fit the randomized search to the training data\n",
    "random_search.fit(X_train, y_train)\n",
    "\n",
    "# Print the best hyperparameters found and evaluate the model\n",
    "print(f\"Best hyperparameters from random search: {random_search.best_params_}\")\n",
    "\n",
    "# Evaluate the optimized model\n",
    "optimized_model = random_search.best_estimator_\n",
    "y_pred_optimized = optimized_model.predict(X_test)\n",
    "\n",
    "# Inverse log-transform predictions and target\n",
    "y_test_original = np.expm1(y_test)\n",
    "y_pred_original = np.expm1(y_pred_optimized)\n",
    "\n",
    "# Calculate metrics\n",
    "mse_optimized = mean_squared_error(y_test_original, y_pred_original)\n",
    "r2_optimized = r2_score(y_test_original, y_pred_original)\n",
    "\n",
    "print(f\"Optimized MSE: {mse_optimized}\")\n",
    "print(f\"Optimized R2 Score: {r2_optimized}\")\n",
    "\n",
    "\n",
    "xgb_model = optimized_model.named_steps['model']\n",
    "\n",
    "\n",
    "print(f\"Saving the best model: {type(xgb_model)}\")"
   ]
  },
  {
   "cell_type": "markdown",
   "metadata": {},
   "source": [
    "#### **Conclusion:**\n",
    "\n",
    "Both models worked well, but **Gradient Boosting Regressor** performed slightly better than **XGBRegressor**.\n",
    "\n",
    "- **R² Score**:\n",
    "  - **Gradient Boosting: 0.863**\n",
    "  - **XGBRegressor: 0.845**\n",
    "\n",
    "  **Gradient Boosting** explains more of the variation in house prices.\n",
    "\n",
    "- **Mean Squared Error (MSE)**:\n",
    "  - **Gradient Boosting: 953,330,178**\n",
    "  - **XGBRegressor: 1,083,823,768**\n",
    "\n",
    "  **Gradient Boosting** has a lower error, which means its predictions are closer to the actual prices.\n",
    "\n",
    "#### **Decision**:\n",
    "Because **Gradient Boosting** performs better, it is chosen as the final model to predict house prices.\n"
   ]
  },
  {
   "cell_type": "code",
   "execution_count": 9,
   "metadata": {},
   "outputs": [
    {
     "name": "stdout",
     "output_type": "stream",
     "text": [
      "Gradient Boosting model saved successfully.\n",
      "XGBoost model saved successfully.\n"
     ]
    }
   ],
   "source": [
    "# Spara den optimerade Gradient Boosting-modellen\n",
    "dump(optimized_model, 'outputs/best_model/best_gradient_boosting_model.pkl')\n",
    "print(\"Gradient Boosting model saved successfully.\")\n",
    "\n",
    "# Spara XGBoost-modellen\n",
    "dump(xgb_model, 'outputs/best_model/best_xgboost_model.pkl')\n",
    "print(\"XGBoost model saved successfully.\")"
   ]
  },
  {
   "cell_type": "markdown",
   "metadata": {},
   "source": [
    "___"
   ]
  },
  {
   "cell_type": "markdown",
   "metadata": {},
   "source": [
    "##### **Calculating Feature Importance**"
   ]
  },
  {
   "cell_type": "code",
   "execution_count": 10,
   "metadata": {},
   "outputs": [
    {
     "name": "stdout",
     "output_type": "stream",
     "text": [
      "       Feature  Importance\n",
      "0  OverallQual    0.542791\n",
      "1    GrLivArea    0.188554\n",
      "3  TotalBsmtSF    0.143993\n",
      "2   GarageArea    0.069383\n"
     ]
    }
   ],
   "source": [
    "# Calculate permutation importance\n",
    "result = permutation_importance(optimized_model, X_test, y_test, n_repeats=10, random_state=42)\n",
    "\n",
    "# Create a DataFrame to store the results\n",
    "importance_df = pd.DataFrame({\n",
    "    'Feature': X.columns,\n",
    "    'Importance': result.importances_mean\n",
    "}).sort_values(by='Importance', ascending=False)\n",
    "\n",
    "# Check the DataFrame\n",
    "print(importance_df.head())"
   ]
  },
  {
   "cell_type": "code",
   "execution_count": 11,
   "metadata": {},
   "outputs": [
    {
     "name": "stdout",
     "output_type": "stream",
     "text": [
      "       Feature  Importance\n",
      "0  OverallQual    0.542791\n",
      "1    GrLivArea    0.188554\n",
      "3  TotalBsmtSF    0.143993\n",
      "2   GarageArea    0.069383\n"
     ]
    },
    {
     "data": {
      "image/png": "[encoded data removed]",
      "text/plain": [
       "<Figure size 1000x800 with 1 Axes>"
      ]
     },
     "metadata": {},
     "output_type": "display_data"
    }
   ],
   "source": [
    "# Visualize permutation importance\n",
    "plt.figure(figsize=(10, 8))\n",
    "sns.barplot(x=\"Importance\", y=\"Feature\", data=importance_df, palette=\"viridis\", orient=\"h\", hue='Feature')\n",
    "plt.title(\"Impact of Features on Model Performance\")\n",
    "plt.xlabel(\"Importance\")\n",
    "plt.ylabel(\"Feature\")\n",
    "\n",
    "# Set the x-axis to start at 0\n",
    "plt.xlim(left=0)\n",
    "\n",
    "# Display the importance dataframe\n",
    "print(importance_df)\n",
    "plt.show()"
   ]
  },
  {
   "cell_type": "markdown",
   "metadata": {},
   "source": [
    "### **Feature Importance Analysis**\n",
    "- **OverallQual** is the most important feature and has the biggest impact on the model’s performance. This means that the overall quality of a house is a key factor in determining its price. For real estate developers or sellers, this suggests that improving the house's quality can lead to higher prices.\n",
    "\n",
    "- **GrLivArea (living area)** and **BsmtFinSF1 (finished basement area)** are also important for pricing. Larger living spaces and more usable basement areas usually result in higher house prices. This is useful for builders and sellers to know that increasing house size or usable space can increase value.\n",
    "\n",
    "- Features like **GarageArea** and **2ndFlrSF (second floor area)** have smaller, but still important, effects on the model’s predictions. While these features are not as critical as the others, they still influence pricing, showing that buyers may care about having more garage space or a second floor, which could increase the house price if there is one..\n"
   ]
  }
 ],
 "metadata": {
  "kernelspec": {
   "display_name": "Python 3",
   "language": "python",
   "name": "python3"
  },
  "language_info": {
   "codemirror_mode": {
    "name": "ipython",
    "version": 3
   },
   "file_extension": ".py",
   "mimetype": "text/x-python",
   "name": "python",
   "nbconvert_exporter": "python",
   "pygments_lexer": "ipython3",
   "version": "3.8.18"
  }
 },
 "nbformat": 4,
 "nbformat_minor": 2
}
