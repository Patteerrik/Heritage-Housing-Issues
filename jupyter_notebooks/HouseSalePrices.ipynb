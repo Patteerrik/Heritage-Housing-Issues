{
 "cells": [
  {
   "cell_type": "markdown",
   "metadata": {},
   "source": [
    "# **House sale prices**"
   ]
  },
  {
   "cell_type": "markdown",
   "metadata": {},
   "source": [
    "## Objectives\n",
    "\n",
    "* Train a machine learning model to predict house prices\n",
    "* Use the prepared and transformed data created in previous steps (DataCollection, DataCleaning, and FeatureEngineering)\n",
    "* Optimize hyperparameters to improve the model’s performance\n",
    "\n",
    "## Inputs\n",
    "\n",
    "* \n",
    "\n",
    "## Outputs\n",
    "\n",
    "*"
   ]
  }
 ],
 "metadata": {
  "language_info": {
   "name": "python"
  }
 },
 "nbformat": 4,
 "nbformat_minor": 2
}
