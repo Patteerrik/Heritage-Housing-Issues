{
 "cells": [
  {
   "cell_type": "markdown",
   "metadata": {},
   "source": [
    "# **Data Cleaning**"
   ]
  },
  {
   "cell_type": "markdown",
   "metadata": {},
   "source": [
    "## Objectives\n",
    "\n",
    "* Clean the data by handling missing values and ensuring correct data types.\n",
    "* Convert specific columns to `float` for consistency.\n",
    "* Save the cleaned dataset for further analysis and modeling.\n",
    "\n",
    "## Inputs\n",
    "\n",
    "* outputs/datasets/collection/HousePricesRecords.csv`: The raw collected data from the Data Collection step\n",
    "\n",
    "## Outputs\n",
    "\n",
    "* outputs/datasets/cleaned/HousePricesCleaned.csv`: The cleaned data, ready for feature engineering and analysis"
   ]
  },
  {
   "cell_type": "markdown",
   "metadata": {},
   "source": [
    "---"
   ]
  },
  {
   "cell_type": "markdown",
   "metadata": {},
   "source": [
    "# Change working directory"
   ]
  },
  {
   "cell_type": "markdown",
   "metadata": {},
   "source": [
    "* The notebooks are stored in a subfolder, therefore when running the notebook in the editor, you will need to change the working directory"
   ]
  },
  {
   "cell_type": "markdown",
   "metadata": {},
   "source": [
    "We need to change the working directory from its current folder to its parent folder\n",
    "* We access the current directory with os.getcwd()"
   ]
  },
  {
   "cell_type": "code",
   "execution_count": 3,
   "metadata": {},
   "outputs": [
    {
     "data": {
      "text/plain": [
       "'/workspace/Heritage-Housing-Issues/jupyter_notebooks'"
      ]
     },
     "execution_count": 3,
     "metadata": {},
     "output_type": "execute_result"
    }
   ],
   "source": [
    "import os\n",
    "current_dir = os.getcwd()\n",
    "current_dir"
   ]
  },
  {
   "cell_type": "markdown",
   "metadata": {},
   "source": [
    "We want to make the parent of the current directory the new current directory\n",
    "* os.path.dirname() gets the parent directory\n",
    "* os.chir() defines the new current directory"
   ]
  },
  {
   "cell_type": "code",
   "execution_count": 6,
   "metadata": {},
   "outputs": [
    {
     "name": "stdout",
     "output_type": "stream",
     "text": [
      "You set a new current directory\n"
     ]
    }
   ],
   "source": [
    "os.chdir(os.path.dirname(current_dir))\n",
    "print(\"You set a new current directory\")"
   ]
  },
  {
   "cell_type": "markdown",
   "metadata": {},
   "source": [
    "Confirm the new current directory"
   ]
  },
  {
   "cell_type": "code",
   "execution_count": 7,
   "metadata": {},
   "outputs": [
    {
     "data": {
      "text/plain": [
       "'/workspace'"
      ]
     },
     "execution_count": 7,
     "metadata": {},
     "output_type": "execute_result"
    }
   ],
   "source": [
    "current_dir = os.getcwd()\n",
    "current_dir"
   ]
  },
  {
   "cell_type": "markdown",
   "metadata": {},
   "source": [
    "## Load data"
   ]
  },
  {
   "cell_type": "markdown",
   "metadata": {},
   "source": [
    "Load the data to check data types"
   ]
  },
  {
   "cell_type": "code",
   "execution_count": 1,
   "metadata": {},
   "outputs": [
    {
     "data": {
      "text/plain": [
       "<bound method NDFrame.head of       1stFlrSF  2ndFlrSF  BedroomAbvGr BsmtExposure  BsmtFinSF1 BsmtFinType1  \\\n",
       "0        856.0     854.0           3.0           No       706.0          GLQ   \n",
       "1       1262.0       0.0           3.0           Gd       978.0          ALQ   \n",
       "2        920.0     866.0           3.0           Mn       486.0          GLQ   \n",
       "3        961.0       NaN           NaN           No       216.0          ALQ   \n",
       "4       1145.0       NaN           4.0           Av       655.0          GLQ   \n",
       "...        ...       ...           ...          ...         ...          ...   \n",
       "1455     953.0     694.0           3.0           No         0.0          Unf   \n",
       "1456    2073.0       0.0           NaN           No       790.0          ALQ   \n",
       "1457    1188.0    1152.0           4.0           No       275.0          GLQ   \n",
       "1458    1078.0       0.0           2.0           Mn        49.0          NaN   \n",
       "1459    1256.0       0.0           3.0           No       830.0          BLQ   \n",
       "\n",
       "      BsmtUnfSF  EnclosedPorch  GarageArea GarageFinish  ...  LotFrontage  \\\n",
       "0         150.0            0.0       548.0          RFn  ...         65.0   \n",
       "1         284.0            NaN       460.0          RFn  ...         80.0   \n",
       "2         434.0            0.0       608.0          RFn  ...         68.0   \n",
       "3         540.0            NaN       642.0          Unf  ...         60.0   \n",
       "4         490.0            0.0       836.0          RFn  ...         84.0   \n",
       "...         ...            ...         ...          ...  ...          ...   \n",
       "1455      953.0            NaN       460.0          RFn  ...         62.0   \n",
       "1456      589.0            NaN       500.0          Unf  ...         85.0   \n",
       "1457      877.0            NaN       252.0          RFn  ...         66.0   \n",
       "1458        0.0          112.0       240.0          Unf  ...         68.0   \n",
       "1459      136.0            0.0       276.0          Fin  ...         75.0   \n",
       "\n",
       "      MasVnrArea OpenPorchSF  OverallCond  OverallQual  TotalBsmtSF  \\\n",
       "0          196.0        61.0            5            7        856.0   \n",
       "1            0.0         0.0            8            6       1262.0   \n",
       "2          162.0        42.0            5            7        920.0   \n",
       "3            0.0        35.0            5            7        756.0   \n",
       "4          350.0        84.0            5            8       1145.0   \n",
       "...          ...         ...          ...          ...          ...   \n",
       "1455         0.0        40.0            5            6        953.0   \n",
       "1456       119.0         0.0            6            6       1542.0   \n",
       "1457         0.0        60.0            9            7       1152.0   \n",
       "1458         0.0         0.0            6            5       1078.0   \n",
       "1459         0.0        68.0            6            5       1256.0   \n",
       "\n",
       "      WoodDeckSF  YearBuilt  YearRemodAdd  SalePrice  \n",
       "0            0.0       2003          2003   208500.0  \n",
       "1            NaN       1976          1976   181500.0  \n",
       "2            NaN       2001          2002   223500.0  \n",
       "3            NaN       1915          1970   140000.0  \n",
       "4            NaN       2000          2000   250000.0  \n",
       "...          ...        ...           ...        ...  \n",
       "1455         0.0       1999          2000   175000.0  \n",
       "1456         NaN       1978          1988   210000.0  \n",
       "1457         NaN       1941          2006   266500.0  \n",
       "1458         NaN       1950          1996   142125.0  \n",
       "1459       736.0       1965          1965   147500.0  \n",
       "\n",
       "[1460 rows x 24 columns]>"
      ]
     },
     "execution_count": 1,
     "metadata": {},
     "output_type": "execute_result"
    }
   ],
   "source": [
    "import pandas as pd\n",
    "df = pd.read_csv(\"outputs/datasets/collection/HousePricesRecords.csv\")\n",
    "df.head\n"
   ]
  },
  {
   "cell_type": "markdown",
   "metadata": {},
   "source": [
    "Remove duplicates"
   ]
  },
  {
   "cell_type": "code",
   "execution_count": 2,
   "metadata": {},
   "outputs": [
    {
     "name": "stdout",
     "output_type": "stream",
     "text": [
      "Duplicates after cleaning: 0\n",
      "Shape of data after removing duplicates: (1460, 24)\n"
     ]
    }
   ],
   "source": [
    "df.drop_duplicates(inplace=True)\n",
    "print(f\"Duplicates after cleaning: {df.duplicated().sum()}\")\n",
    "print(f\"Shape of data after removing duplicates: {df.shape}\")"
   ]
  },
  {
   "cell_type": "markdown",
   "metadata": {},
   "source": [
    "Handle missing data"
   ]
  },
  {
   "cell_type": "code",
   "execution_count": 15,
   "metadata": {},
   "outputs": [
    {
     "name": "stdout",
     "output_type": "stream",
     "text": [
      "Missing values after cleaning:\n",
      "1stFlrSF        0\n",
      "2ndFlrSF        0\n",
      "BedroomAbvGr    0\n",
      "BsmtExposure    0\n",
      "BsmtFinSF1      0\n",
      "BsmtFinType1    0\n",
      "BsmtUnfSF       0\n",
      "GarageArea      0\n",
      "GarageFinish    0\n",
      "GarageYrBlt     0\n",
      "GrLivArea       0\n",
      "KitchenQual     0\n",
      "LotArea         0\n",
      "LotFrontage     0\n",
      "MasVnrArea      0\n",
      "OpenPorchSF     0\n",
      "OverallCond     0\n",
      "OverallQual     0\n",
      "TotalBsmtSF     0\n",
      "YearBuilt       0\n",
      "YearRemodAdd    0\n",
      "SalePrice       0\n",
      "dtype: int64\n"
     ]
    }
   ],
   "source": [
    "# Fill missing values in numerical columns\n",
    "df['2ndFlrSF'].fillna(0, inplace=True)  # Fill with 0 because not all houses have a second floor\n",
    "df['BedroomAbvGr'].fillna(df['BedroomAbvGr'].mean(), inplace=True)  # Fill with the mean value\n",
    "df['LotFrontage'].fillna(df['LotFrontage'].mean(), inplace=True)\n",
    "df['MasVnrArea'].fillna(df['MasVnrArea'].mean(), inplace=True)\n",
    "df['GarageYrBlt'].fillna(df['GarageYrBlt'].mean(), inplace=True)\n",
    "\n",
    "# Fill missing values in categorical columns\n",
    "df['BsmtExposure'].fillna(df['BsmtExposure'].mode()[0], inplace=True)  # Fill with the most common value (mode)\n",
    "df['BsmtFinType1'].fillna(df['BsmtFinType1'].mode()[0], inplace=True)\n",
    "df['GarageFinish'].fillna(df['GarageFinish'].mode()[0], inplace=True)\n",
    "\n",
    "# Check if there are any missing values left\n",
    "print(\"Missing values after cleaning:\")\n",
    "print(df.isnull().sum())"
   ]
  },
  {
   "cell_type": "markdown",
   "metadata": {},
   "source": [
    "Convert object to category "
   ]
  },
  {
   "cell_type": "code",
   "execution_count": 10,
   "metadata": {},
   "outputs": [],
   "source": [
    "df['BsmtExposure'] = df['BsmtExposure'].astype('category')\n",
    "df['BsmtFinType1'] = df['BsmtFinType1'].astype('category')\n",
    "df['GarageFinish'] = df['GarageFinish'].astype('category')\n",
    "df['KitchenQual'] = df['KitchenQual'].astype('category')\n"
   ]
  },
  {
   "cell_type": "markdown",
   "metadata": {},
   "source": [
    "Check data types"
   ]
  },
  {
   "cell_type": "code",
   "execution_count": null,
   "metadata": {},
   "outputs": [
    {
     "data": {
      "text/plain": [
       "1stFlrSF         float64\n",
       "2ndFlrSF         float64\n",
       "BedroomAbvGr     float64\n",
       "BsmtExposure    category\n",
       "BsmtFinSF1       float64\n",
       "BsmtFinType1    category\n",
       "BsmtUnfSF        float64\n",
       "GarageArea       float64\n",
       "GarageFinish    category\n",
       "GarageYrBlt      float64\n",
       "GrLivArea        float64\n",
       "KitchenQual     category\n",
       "LotArea          float64\n",
       "LotFrontage      float64\n",
       "MasVnrArea       float64\n",
       "OpenPorchSF      float64\n",
       "OverallCond        int64\n",
       "OverallQual        int64\n",
       "TotalBsmtSF      float64\n",
       "YearBuilt          int64\n",
       "YearRemodAdd       int64\n",
       "SalePrice        float64\n",
       "dtype: object"
      ]
     },
     "execution_count": 11,
     "metadata": {},
     "output_type": "execute_result"
    }
   ],
   "source": [
    "df.dtypes"
   ]
  },
  {
   "cell_type": "markdown",
   "metadata": {},
   "source": [
    "___"
   ]
  },
  {
   "cell_type": "markdown",
   "metadata": {},
   "source": [
    "## Push files to repo"
   ]
  },
  {
   "cell_type": "code",
   "execution_count": 18,
   "metadata": {},
   "outputs": [
    {
     "name": "stdout",
     "output_type": "stream",
     "text": [
      "Exported the transformed dataset successfully!\n"
     ]
    }
   ],
   "source": [
    "df.to_csv(\"outputs/datasets/collection/HousePricesCleaned.csv\", index=False)\n",
    "print(\"Exported the transformed dataset successfully!\")"
   ]
  }
 ],
 "metadata": {
  "kernelspec": {
   "display_name": "Python 3",
   "language": "python",
   "name": "python3"
  },
  "language_info": {
   "codemirror_mode": {
    "name": "ipython",
    "version": 3
   },
   "file_extension": ".py",
   "mimetype": "text/x-python",
   "name": "python",
   "nbconvert_exporter": "python",
   "pygments_lexer": "ipython3",
   "version": "3.8.18"
  }
 },
 "nbformat": 4,
 "nbformat_minor": 2
}
