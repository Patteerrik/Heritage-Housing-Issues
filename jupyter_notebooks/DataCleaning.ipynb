{
 "cells": [
  {
   "cell_type": "markdown",
   "metadata": {},
   "source": [
    "# **Data Cleaning**"
   ]
  },
  {
   "cell_type": "markdown",
   "metadata": {},
   "source": [
    "## Objectives\n",
    "\n",
    "* Handle missing values by filling them with appropriate replacements or removing irrelevant columns.\n",
    "* Ensure all features have correct and consistent data types.\n",
    "* Standardize numerical features to improve consistency and model performance.\n",
    "* Apply a cleaning pipeline to make the cleaning process systematic and reproducible.\n",
    "* Save the cleaned dataset for further analysis and modeling.\n",
    "\n",
    "## Inputs\n",
    "\n",
    "* outputs/datasets/collection/HousePricesRecords.csv: The raw collected data from the Data Collection step\n",
    "\n",
    "## Outputs\n",
    "\n",
    "* outputs/datasets/cleaned/HousePricesCleaned.csv: The cleaned data, ready for feature engineering and analysis"
   ]
  },
  {
   "cell_type": "markdown",
   "metadata": {},
   "source": [
    "---"
   ]
  },
  {
   "cell_type": "markdown",
   "metadata": {},
   "source": [
    "# Change working directory"
   ]
  },
  {
   "cell_type": "markdown",
   "metadata": {},
   "source": [
    "* The notebooks are stored in a subfolder, therefore when running the notebook in the editor, you will need to change the working directory"
   ]
  },
  {
   "cell_type": "markdown",
   "metadata": {},
   "source": [
    "We need to change the working directory from its current folder to its parent folder\n",
    "* We access the current directory with os.getcwd()"
   ]
  },
  {
   "cell_type": "code",
   "execution_count": 1,
   "metadata": {},
   "outputs": [
    {
     "data": {
      "text/plain": [
       "'/workspace/Heritage-Housing-Issues/jupyter_notebooks'"
      ]
     },
     "execution_count": 1,
     "metadata": {},
     "output_type": "execute_result"
    }
   ],
   "source": [
    "import os\n",
    "current_dir = os.getcwd()\n",
    "current_dir"
   ]
  },
  {
   "cell_type": "markdown",
   "metadata": {},
   "source": [
    "We want to make the parent of the current directory the new current directory\n",
    "* os.path.dirname() gets the parent directory\n",
    "* os.chir() defines the new current directory"
   ]
  },
  {
   "cell_type": "code",
   "execution_count": 2,
   "metadata": {},
   "outputs": [
    {
     "name": "stdout",
     "output_type": "stream",
     "text": [
      "You set a new current directory\n"
     ]
    }
   ],
   "source": [
    "os.chdir(os.path.dirname(current_dir))\n",
    "print(\"You set a new current directory\")"
   ]
  },
  {
   "cell_type": "markdown",
   "metadata": {},
   "source": [
    "Confirm the new current directory"
   ]
  },
  {
   "cell_type": "code",
   "execution_count": 3,
   "metadata": {},
   "outputs": [
    {
     "data": {
      "text/plain": [
       "'/workspace/Heritage-Housing-Issues'"
      ]
     },
     "execution_count": 3,
     "metadata": {},
     "output_type": "execute_result"
    }
   ],
   "source": [
    "current_dir = os.getcwd()\n",
    "current_dir"
   ]
  },
  {
   "cell_type": "markdown",
   "metadata": {},
   "source": [
    "## Load data"
   ]
  },
  {
   "cell_type": "markdown",
   "metadata": {},
   "source": [
    "Load the data from the generated CSV file to inspect data types and preview the dataset structure."
   ]
  },
  {
   "cell_type": "code",
   "execution_count": 1,
   "metadata": {},
   "outputs": [
    {
     "data": {
      "text/html": [
       "<div>\n",
       "<style scoped>\n",
       "    .dataframe tbody tr th:only-of-type {\n",
       "        vertical-align: middle;\n",
       "    }\n",
       "\n",
       "    .dataframe tbody tr th {\n",
       "        vertical-align: top;\n",
       "    }\n",
       "\n",
       "    .dataframe thead th {\n",
       "        text-align: right;\n",
       "    }\n",
       "</style>\n",
       "<table border=\"1\" class=\"dataframe\">\n",
       "  <thead>\n",
       "    <tr style=\"text-align: right;\">\n",
       "      <th></th>\n",
       "      <th>1stFlrSF</th>\n",
       "      <th>2ndFlrSF</th>\n",
       "      <th>BedroomAbvGr</th>\n",
       "      <th>BsmtExposure</th>\n",
       "      <th>BsmtFinSF1</th>\n",
       "      <th>BsmtFinType1</th>\n",
       "      <th>BsmtUnfSF</th>\n",
       "      <th>EnclosedPorch</th>\n",
       "      <th>GarageArea</th>\n",
       "      <th>GarageFinish</th>\n",
       "      <th>...</th>\n",
       "      <th>LotFrontage</th>\n",
       "      <th>MasVnrArea</th>\n",
       "      <th>OpenPorchSF</th>\n",
       "      <th>OverallCond</th>\n",
       "      <th>OverallQual</th>\n",
       "      <th>TotalBsmtSF</th>\n",
       "      <th>WoodDeckSF</th>\n",
       "      <th>YearBuilt</th>\n",
       "      <th>YearRemodAdd</th>\n",
       "      <th>SalePrice</th>\n",
       "    </tr>\n",
       "  </thead>\n",
       "  <tbody>\n",
       "    <tr>\n",
       "      <th>0</th>\n",
       "      <td>856.0</td>\n",
       "      <td>854.0</td>\n",
       "      <td>3.0</td>\n",
       "      <td>No</td>\n",
       "      <td>706.0</td>\n",
       "      <td>GLQ</td>\n",
       "      <td>150.0</td>\n",
       "      <td>0.0</td>\n",
       "      <td>548.0</td>\n",
       "      <td>RFn</td>\n",
       "      <td>...</td>\n",
       "      <td>65.0</td>\n",
       "      <td>196.0</td>\n",
       "      <td>61.0</td>\n",
       "      <td>5</td>\n",
       "      <td>7</td>\n",
       "      <td>856.0</td>\n",
       "      <td>0.0</td>\n",
       "      <td>2003</td>\n",
       "      <td>2003</td>\n",
       "      <td>208500.0</td>\n",
       "    </tr>\n",
       "    <tr>\n",
       "      <th>1</th>\n",
       "      <td>1262.0</td>\n",
       "      <td>0.0</td>\n",
       "      <td>3.0</td>\n",
       "      <td>Gd</td>\n",
       "      <td>978.0</td>\n",
       "      <td>ALQ</td>\n",
       "      <td>284.0</td>\n",
       "      <td>NaN</td>\n",
       "      <td>460.0</td>\n",
       "      <td>RFn</td>\n",
       "      <td>...</td>\n",
       "      <td>80.0</td>\n",
       "      <td>0.0</td>\n",
       "      <td>0.0</td>\n",
       "      <td>8</td>\n",
       "      <td>6</td>\n",
       "      <td>1262.0</td>\n",
       "      <td>NaN</td>\n",
       "      <td>1976</td>\n",
       "      <td>1976</td>\n",
       "      <td>181500.0</td>\n",
       "    </tr>\n",
       "    <tr>\n",
       "      <th>2</th>\n",
       "      <td>920.0</td>\n",
       "      <td>866.0</td>\n",
       "      <td>3.0</td>\n",
       "      <td>Mn</td>\n",
       "      <td>486.0</td>\n",
       "      <td>GLQ</td>\n",
       "      <td>434.0</td>\n",
       "      <td>0.0</td>\n",
       "      <td>608.0</td>\n",
       "      <td>RFn</td>\n",
       "      <td>...</td>\n",
       "      <td>68.0</td>\n",
       "      <td>162.0</td>\n",
       "      <td>42.0</td>\n",
       "      <td>5</td>\n",
       "      <td>7</td>\n",
       "      <td>920.0</td>\n",
       "      <td>NaN</td>\n",
       "      <td>2001</td>\n",
       "      <td>2002</td>\n",
       "      <td>223500.0</td>\n",
       "    </tr>\n",
       "    <tr>\n",
       "      <th>3</th>\n",
       "      <td>961.0</td>\n",
       "      <td>NaN</td>\n",
       "      <td>NaN</td>\n",
       "      <td>No</td>\n",
       "      <td>216.0</td>\n",
       "      <td>ALQ</td>\n",
       "      <td>540.0</td>\n",
       "      <td>NaN</td>\n",
       "      <td>642.0</td>\n",
       "      <td>Unf</td>\n",
       "      <td>...</td>\n",
       "      <td>60.0</td>\n",
       "      <td>0.0</td>\n",
       "      <td>35.0</td>\n",
       "      <td>5</td>\n",
       "      <td>7</td>\n",
       "      <td>756.0</td>\n",
       "      <td>NaN</td>\n",
       "      <td>1915</td>\n",
       "      <td>1970</td>\n",
       "      <td>140000.0</td>\n",
       "    </tr>\n",
       "    <tr>\n",
       "      <th>4</th>\n",
       "      <td>1145.0</td>\n",
       "      <td>NaN</td>\n",
       "      <td>4.0</td>\n",
       "      <td>Av</td>\n",
       "      <td>655.0</td>\n",
       "      <td>GLQ</td>\n",
       "      <td>490.0</td>\n",
       "      <td>0.0</td>\n",
       "      <td>836.0</td>\n",
       "      <td>RFn</td>\n",
       "      <td>...</td>\n",
       "      <td>84.0</td>\n",
       "      <td>350.0</td>\n",
       "      <td>84.0</td>\n",
       "      <td>5</td>\n",
       "      <td>8</td>\n",
       "      <td>1145.0</td>\n",
       "      <td>NaN</td>\n",
       "      <td>2000</td>\n",
       "      <td>2000</td>\n",
       "      <td>250000.0</td>\n",
       "    </tr>\n",
       "  </tbody>\n",
       "</table>\n",
       "<p>5 rows × 24 columns</p>\n",
       "</div>"
      ],
      "text/plain": [
       "   1stFlrSF  2ndFlrSF  BedroomAbvGr BsmtExposure  BsmtFinSF1 BsmtFinType1  \\\n",
       "0     856.0     854.0           3.0           No       706.0          GLQ   \n",
       "1    1262.0       0.0           3.0           Gd       978.0          ALQ   \n",
       "2     920.0     866.0           3.0           Mn       486.0          GLQ   \n",
       "3     961.0       NaN           NaN           No       216.0          ALQ   \n",
       "4    1145.0       NaN           4.0           Av       655.0          GLQ   \n",
       "\n",
       "   BsmtUnfSF  EnclosedPorch  GarageArea GarageFinish  ...  LotFrontage  \\\n",
       "0      150.0            0.0       548.0          RFn  ...         65.0   \n",
       "1      284.0            NaN       460.0          RFn  ...         80.0   \n",
       "2      434.0            0.0       608.0          RFn  ...         68.0   \n",
       "3      540.0            NaN       642.0          Unf  ...         60.0   \n",
       "4      490.0            0.0       836.0          RFn  ...         84.0   \n",
       "\n",
       "   MasVnrArea OpenPorchSF  OverallCond  OverallQual  TotalBsmtSF  WoodDeckSF  \\\n",
       "0       196.0        61.0            5            7        856.0         0.0   \n",
       "1         0.0         0.0            8            6       1262.0         NaN   \n",
       "2       162.0        42.0            5            7        920.0         NaN   \n",
       "3         0.0        35.0            5            7        756.0         NaN   \n",
       "4       350.0        84.0            5            8       1145.0         NaN   \n",
       "\n",
       "   YearBuilt  YearRemodAdd  SalePrice  \n",
       "0       2003          2003   208500.0  \n",
       "1       1976          1976   181500.0  \n",
       "2       2001          2002   223500.0  \n",
       "3       1915          1970   140000.0  \n",
       "4       2000          2000   250000.0  \n",
       "\n",
       "[5 rows x 24 columns]"
      ]
     },
     "execution_count": 1,
     "metadata": {},
     "output_type": "execute_result"
    }
   ],
   "source": [
    "import pandas as pd\n",
    "import numpy as np\n",
    "import matplotlib.pyplot as plt\n",
    "from feature_engine.imputation import CategoricalImputer, MeanMedianImputer, ArbitraryNumberImputer\n",
    "from feature_engine.selection import DropFeatures\n",
    "from sklearn.pipeline import Pipeline\n",
    "\n",
    "df = pd.read_csv(\"outputs/datasets/collection/HousePricesRecords.csv\")\n",
    "df.head()"
   ]
  },
  {
   "cell_type": "markdown",
   "metadata": {},
   "source": [
    "##### **Visualize missing values** to easily identify which columns have missing data"
   ]
  },
  {
   "cell_type": "code",
   "execution_count": 2,
   "metadata": {},
   "outputs": [
    {
     "name": "stdout",
     "output_type": "stream",
     "text": [
      "\n",
      "Missing values per column:\n",
      "               MissingValues  PercentageMissing\n",
      "2ndFlrSF                  86           5.890411\n",
      "BedroomAbvGr              99           6.780822\n",
      "BsmtExposure              38           2.602740\n",
      "BsmtFinType1             145           9.931507\n",
      "EnclosedPorch           1324          90.684932\n",
      "GarageFinish             235          16.095890\n",
      "GarageYrBlt               81           5.547945\n",
      "LotFrontage              259          17.739726\n",
      "MasVnrArea                 8           0.547945\n",
      "WoodDeckSF              1305          89.383562\n"
     ]
    }
   ],
   "source": [
    "# Evaluate the proportion of missing values per column\n",
    "def evaluate_missing_data(df):\n",
    "    missing_data = df.isnull().sum()\n",
    "    percentage_missing = (missing_data / len(df)) * 100\n",
    "    missing_summary = pd.DataFrame({\n",
    "        \"MissingValues\": missing_data,\n",
    "        \"PercentageMissing\": percentage_missing\n",
    "    })\n",
    "    print(\"\\nMissing values per column:\")\n",
    "    print(missing_summary[missing_summary[\"MissingValues\"] > 0])\n",
    "\n",
    "# Call the function to evaluate missing values\n",
    "evaluate_missing_data(df)"
   ]
  },
  {
   "cell_type": "markdown",
   "metadata": {},
   "source": [
    "##### Some features show a significant amount of missing data. The next step is to visualize this for better clarity.\n",
    "\n",
    "___\n",
    "\n",
    "##### **Visualize** which columns have missing data and how much is missing, making it easier to decide on handling strategies."
   ]
  },
  {
   "cell_type": "code",
   "execution_count": 3,
   "metadata": {},
   "outputs": [
    {
     "data": {
      "image/png": "[encoded data removed]",
      "text/plain": [
       "<Figure size 1000x600 with 1 Axes>"
      ]
     },
     "metadata": {},
     "output_type": "display_data"
    }
   ],
   "source": [
    "# Summary of missing values sorted in descending order\n",
    "missing_data_summary = df.isnull().sum().sort_values(ascending=False)\n",
    "missing_data_summary = missing_data_summary[missing_data_summary > 0]  # Include only columns with missing values\n",
    "\n",
    "# Bar plot showing the number of missing values per column\n",
    "plt.figure(figsize=(10, 6))\n",
    "missing_data_summary.plot(kind='bar')\n",
    "plt.title('Number of Missing Values per Column')\n",
    "plt.ylabel('Number of Missing Values')\n",
    "plt.xlabel('Columns')\n",
    "plt.xticks(rotation=45)\n",
    "plt.show()\n"
   ]
  },
  {
   "cell_type": "markdown",
   "metadata": {},
   "source": [
    "##### As the chart shows, **EnclosedPorch** and **WoodDeckSF** are missing 90% and 89% of their values, respectively. For this reason, they will be removed using \"DropFeatures\".\n",
    "\n",
    "___"
   ]
  },
  {
   "cell_type": "markdown",
   "metadata": {},
   "source": [
    "##### This code checks if any rows in the **SalePrice** column have zero or negative values. These are not realistic for house prices. It helps to make sure the data is correct before analysis. If such rows exist, they are shown for review."
   ]
  },
  {
   "cell_type": "code",
   "execution_count": 4,
   "metadata": {},
   "outputs": [
    {
     "name": "stdout",
     "output_type": "stream",
     "text": [
      "Number of rows with negative SalePrice: 0\n",
      "Number of rows with SalePrice = 0: 0\n"
     ]
    }
   ],
   "source": [
    "# Identify rows with negative or zero SalePrice values\n",
    "negative_values = df[df['SalePrice'] < 0]  # Filter rows where SalePrice is negative\n",
    "zero_values = df[df['SalePrice'] == 0]  # Filter rows where SalePrice is zero\n",
    "\n",
    "# Print the count of negative and zero SalePrice rows\n",
    "print(f\"Number of rows with negative SalePrice: {len(negative_values)}\")\n",
    "print(f\"Number of rows with SalePrice = 0: {len(zero_values)}\")\n",
    "\n",
    "# If any rows with negative SalePrice exist, display the first few rows\n",
    "if not negative_values.empty:\n",
    "    print(\"Rows with negative SalePrice:\")\n",
    "    print(negative_values.head())\n",
    "\n",
    "# If any rows with SalePrice = 0 exist, display the first few rows\n",
    "if not zero_values.empty:\n",
    "    print(\"Rows with SalePrice = 0:\")\n",
    "    print(zero_values.head())\n"
   ]
  },
  {
   "cell_type": "markdown",
   "metadata": {},
   "source": [
    "##### No rows in the **SalePrice** column have zero or negative values. This confirms that the data is valid and ready for further analysis.\n",
    "\n",
    "##### The next step is cleaning the dataset using a pipeline."
   ]
  },
  {
   "cell_type": "markdown",
   "metadata": {},
   "source": [
    "___"
   ]
  },
  {
   "cell_type": "markdown",
   "metadata": {},
   "source": [
    "##### Features with many missing values are removed using **DropFeatures** (**EnclosedPorch** and **WoodDeckSF**).\n",
    "\n",
    "##### Categorical features with fewer missing values are filled with the most frequent category using **CategoricalImputer** to keep the data consistent (**GarageFinish**, **BsmtFinType1**, and **BsmtExposure**).\n",
    "\n",
    "##### Missing values in numerical columns like **LotFrontage**, **BedroomAbvGr**, and **GarageYrBlt** are filled with the median using **MeanMedianImputer**, as it is less affected by outliers.\n",
    "\n",
    "##### For specific numerical columns like **2ndFlrSF** and **MasVnrArea**, missing values are replaced with zero using **ArbitraryNumberImputer** because their absence usually has a specific meaning (no second floor).\n",
    "\n",
    "##### The **SalePrice** column is excluded from all transformations to keep its values unchanged for analysis.\n",
    "\n",
    "##### The pipeline is applied step by step to clean and transform the dataset (df_cleaned) systematically.\n",
    "\n",
    "##### After cleaning, the dataset is checked to confirm no rows have negative or zero **SalePrice**, as these would not be valid for analysis."
   ]
  },
  {
   "cell_type": "code",
   "execution_count": 5,
   "metadata": {},
   "outputs": [
    {
     "name": "stdout",
     "output_type": "stream",
     "text": [
      "Pipeline applied successfully!\n",
      "Number of rows with negative SalePrice: 0\n",
      "Number of rows with SalePrice = 0: 0\n",
      "Dataset shape after cleaning: (1460, 22)\n"
     ]
    }
   ],
   "source": [
    "# List of features to drop\n",
    "dropped_features = ['EnclosedPorch', 'WoodDeckSF']\n",
    "\n",
    "# List of categorical features\n",
    "categorical_features = ['GarageFinish', 'BsmtFinType1', 'BsmtExposure']\n",
    "median_features = ['LotFrontage', 'BedroomAbvGr', 'GarageYrBlt']\n",
    "features_to_impute_with_zero = ['2ndFlrSF', 'MasVnrArea']\n",
    "\n",
    "# Ensure that SalePrice is not included in the transformation steps\n",
    "numerical_features = df.select_dtypes(include=['number']).columns.tolist()\n",
    "numerical_features.remove('SalePrice')  # Exclude SalePrice\n",
    "\n",
    "# Create pipeline to clean data\n",
    "pipeline = Pipeline([\n",
    "    # Drop irrelevant or highly missing features\n",
    "    ('DropFeatures', DropFeatures(features_to_drop=dropped_features)),\n",
    "    ('CategoricalImputer', CategoricalImputer(imputation_method='frequent', variables=categorical_features)),\n",
    "    ('MeanMedianImputer', MeanMedianImputer(imputation_method='median', variables=median_features)),\n",
    "    ('ArbitraryNumberImputer', ArbitraryNumberImputer(arbitrary_number=0, variables=features_to_impute_with_zero)),\n",
    "])\n",
    "\n",
    "# Apply pipeline to dataframe\n",
    "df_cleaned = pipeline.fit_transform(df)\n",
    "\n",
    "# Check for negative or zero values in SalePrice\n",
    "negative_values = df_cleaned[df_cleaned['SalePrice'] < 0]\n",
    "zero_values = df_cleaned[df_cleaned['SalePrice'] == 0]\n",
    "\n",
    "# Print to confirm cleaning process\n",
    "print(f\"Pipeline applied successfully!\")\n",
    "print(f\"Number of rows with negative SalePrice: {len(negative_values)}\")\n",
    "print(f\"Number of rows with SalePrice = 0: {len(zero_values)}\")\n",
    "print(f\"Dataset shape after cleaning: {df_cleaned.shape}\")"
   ]
  },
  {
   "cell_type": "markdown",
   "metadata": {},
   "source": [
    "**Result:**\n",
    "\n",
    "The pipeline ran successfully:\n",
    "\n",
    "No rows have negative or zero SalePrice, ensuring valid data for analysis.\n",
    "The dataset now has 1460 rows and 22 columns, with irrelevant or missing features removed.\n",
    "The data is clean and ready for the next steps.\n",
    "\n",
    "\n",
    "Next, duplicates will be removed. \n",
    "\n",
    "___"
   ]
  },
  {
   "cell_type": "markdown",
   "metadata": {},
   "source": [
    "##### **Remove duplicates**\n",
    "\n",
    "##### Remove duplicates to keep data clean and avoid repeated information that could harm model accuracy."
   ]
  },
  {
   "cell_type": "code",
   "execution_count": 56,
   "metadata": {},
   "outputs": [
    {
     "name": "stdout",
     "output_type": "stream",
     "text": [
      "Duplicates after cleaning: 0\n",
      "Shape of data after removing duplicates: (1460, 22)\n"
     ]
    }
   ],
   "source": [
    "df_cleaned.drop_duplicates(inplace=True)\n",
    "print(f\"Duplicates after cleaning: {df_cleaned.duplicated().sum()}\")\n",
    "print(f\"Shape of data after removing duplicates: {df_cleaned.shape}\")"
   ]
  },
  {
   "cell_type": "markdown",
   "metadata": {},
   "source": [
    "No duplicates were found in the dataset. The shape remains unchanged at 1460 rows and 22 columns, ensuring the data is clean and ready for analysis.\n",
    "\n",
    "Next, outliers will be analyzed."
   ]
  },
  {
   "cell_type": "markdown",
   "metadata": {},
   "source": [
    "___"
   ]
  },
  {
   "cell_type": "markdown",
   "metadata": {},
   "source": [
    "##### Key features like **LotArea**, **GrLivArea**, and **SalePrice** are analyzed for extreme values using the 2nd and 98th percentiles. This helps understand the data distribution and ensures outliers won’t affect the model. The shape of the dataset stays the same as no rows are removed."
   ]
  },
  {
   "cell_type": "code",
   "execution_count": 57,
   "metadata": {},
   "outputs": [
    {
     "name": "stdout",
     "output_type": "stream",
     "text": [
      "Feature: LotArea, Outliers detected: 60\n",
      "Feature: GrLivArea, Outliers detected: 59\n",
      "Feature: SalePrice, Outliers detected: 59\n",
      "Data shape after logging outliers (no rows removed): (1460, 22)\n"
     ]
    }
   ],
   "source": [
    "# Log information about outliers without removing them\n",
    "important_features = ['LotArea', 'GrLivArea', 'SalePrice']\n",
    "\n",
    "# Percentile thresholds\n",
    "lower_percentile = 0.02\n",
    "upper_percentile = 0.98\n",
    "\n",
    "# Check for outliers\n",
    "for feature in important_features:\n",
    "    lower_limit = df_cleaned[feature].quantile(lower_percentile)\n",
    "    upper_limit = df_cleaned[feature].quantile(upper_percentile)\n",
    "    \n",
    "    # Log the number of outliers\n",
    "    outliers = df_cleaned[(df_cleaned[feature] < lower_limit) | (df_cleaned[feature] > upper_limit)]\n",
    "    print(f\"Feature: {feature}, Outliers detected: {len(outliers)}\")\n",
    "\n",
    "# Log data shape after identifying outliers\n",
    "print(f\"Data shape after logging outliers (no rows removed): {df_cleaned.shape}\")"
   ]
  },
  {
   "cell_type": "markdown",
   "metadata": {},
   "source": [
    "**Outlier detection results:**\n",
    "\n",
    "**LotArea**: 60 outliers detected.\n",
    "\n",
    "**GrLivArea:** 59 outliers detected.\n",
    "\n",
    "**SalePrice:** 59 outliers detected.\n",
    "\n",
    "The dataset shape remains unchanged at 1460 rows and 22 columns, as outliers were only logged and not removed. This ensures all data is preserved for analysis, while identifying potential extreme values for further consideration."
   ]
  },
  {
   "cell_type": "markdown",
   "metadata": {},
   "source": [
    "___"
   ]
  },
  {
   "cell_type": "markdown",
   "metadata": {},
   "source": [
    "##### Check data types to make sure all columns have the correct data types after transformations."
   ]
  },
  {
   "cell_type": "code",
   "execution_count": 58,
   "metadata": {},
   "outputs": [
    {
     "data": {
      "text/plain": [
       "1stFlrSF         float64\n",
       "2ndFlrSF         float64\n",
       "BedroomAbvGr     float64\n",
       "BsmtExposure    category\n",
       "BsmtFinSF1       float64\n",
       "BsmtFinType1    category\n",
       "BsmtUnfSF        float64\n",
       "GarageArea       float64\n",
       "GarageFinish    category\n",
       "GarageYrBlt      float64\n",
       "GrLivArea        float64\n",
       "KitchenQual     category\n",
       "LotArea          float64\n",
       "LotFrontage      float64\n",
       "MasVnrArea       float64\n",
       "OpenPorchSF      float64\n",
       "OverallCond        int64\n",
       "OverallQual        int64\n",
       "TotalBsmtSF      float64\n",
       "YearBuilt          int64\n",
       "YearRemodAdd       int64\n",
       "SalePrice        float64\n",
       "dtype: object"
      ]
     },
     "execution_count": 58,
     "metadata": {},
     "output_type": "execute_result"
    }
   ],
   "source": [
    "df_cleaned.dtypes"
   ]
  },
  {
   "cell_type": "markdown",
   "metadata": {},
   "source": [
    "**The data types in df_cleaned were checked:**\n",
    "\n",
    "Numerical features like **1stFlrSF**, **GarageArea**, **SalePrice** are correctly stored as float64 or int64. This makes them ready for calculations and modeling.\n",
    "Categorical features like **BsmtExposure**, **GarageFinish** are stored as category, saving memory and making them easy to process.\n",
    "The data types confirm that the cleaning steps worked, and the dataset is ready to save and use in the next steps."
   ]
  },
  {
   "cell_type": "markdown",
   "metadata": {},
   "source": [
    "___"
   ]
  },
  {
   "cell_type": "markdown",
   "metadata": {},
   "source": [
    "## Push files to repo"
   ]
  },
  {
   "cell_type": "code",
   "execution_count": 6,
   "metadata": {},
   "outputs": [
    {
     "name": "stdout",
     "output_type": "stream",
     "text": [
      "Exported the transformed dataset successfully!\n"
     ]
    }
   ],
   "source": [
    "df_cleaned.to_csv(\"outputs/datasets/collection/HousePricesCleaned.csv\", index=False)\n",
    "print(\"Exported the transformed dataset successfully!\")"
   ]
  },
  {
   "cell_type": "code",
   "execution_count": 7,
   "metadata": {},
   "outputs": [
    {
     "name": "stdout",
     "output_type": "stream",
     "text": [
      "Data Cleaning Summary:\n",
      "Initial shape: (1460, 24)\n",
      "Shape after cleaning: (1460, 22)\n"
     ]
    }
   ],
   "source": [
    "print(\"Data Cleaning Summary:\")\n",
    "print(f\"Initial shape: {df.shape}\")\n",
    "print(f\"Shape after cleaning: {df_cleaned.shape}\")"
   ]
  },
  {
   "cell_type": "markdown",
   "metadata": {},
   "source": [
    "##### **Data Cleaning Summary**\n",
    "**Missing Values:** Filled missing numbers with the median and missing categories with the most common value. Removed columns with too many missing values.\n",
    "\n",
    "**Outliers:** Logged outliers in LotArea, GrLivArea, and SalePrice without removing them.\n",
    "\n",
    "**Visualization:** Used bar plots to show missing data for each column.\n",
    "\n",
    "**Pipeline:** Used a pipeline to drop columns, fill missing values, and clean the data.\n",
    "\n",
    "**Data Types:** Verified the data types for all columns to ensure consistency and readiness for modeling.\n",
    "\n",
    "**Export:** Saved the cleaned data **HousePricesCleaned.csv** for further analysis."
   ]
  }
 ],
 "metadata": {
  "kernelspec": {
   "display_name": "Python 3",
   "language": "python",
   "name": "python3"
  },
  "language_info": {
   "codemirror_mode": {
    "name": "ipython",
    "version": 3
   },
   "file_extension": ".py",
   "mimetype": "text/x-python",
   "name": "python",
   "nbconvert_exporter": "python",
   "pygments_lexer": "ipython3",
   "version": "3.8.18"
  }
 },
 "nbformat": 4,
 "nbformat_minor": 2
}
